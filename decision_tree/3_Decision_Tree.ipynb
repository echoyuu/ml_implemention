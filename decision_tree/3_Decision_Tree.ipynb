{
 "cells": [
  {
   "cell_type": "markdown",
   "metadata": {},
   "source": [
    "# 【机器学习实战】第3章 决策树"
   ]
  },
  {
   "cell_type": "raw",
   "metadata": {
    "ExecuteTime": {
     "end_time": "2018-07-25T07:11:17.681645Z",
     "start_time": "2018-07-25T07:11:17.648124Z"
    },
    "code_folding": []
   },
   "source": [
    "1.决策树 概述\n",
    "决策树（Decision Tree）算法主要用来处理分类问题，是最经常使用的数据挖掘算法之一。\n",
    "(1)定义：分类决策树模型是一种描述对实例进行分类的树形结构。决策树由节点（node）和有向边（directed edge）组成。节点有两种类型：内部结点和叶结点，内部结点表示一个特征或者属性，叶结点表示一个类。\n",
    "(2)用决策树进行分类，从根结点开始，对实例的某一特征进行测试，根据测试结构，将实例分配到其子结点；这时，每一个子结点对用着特征的一个取值，如此递归的对实例进行测试并分配，直至到达叶结点。最后将实例分到叶结点的类中。\n",
    "(3)分而治之 divide-and-conquer\n",
    "\n",
    "2.决策树 原理\n",
    "2.1决策树 须知概念\n",
    "信息熵 & 信息增益\n",
    "(1)熵： 熵（entropy）指的是体系的混乱的程度，在不同的学科中也有引申出的更为具体的定义，是各领域十分重要的参量。\n",
    "(2)信息熵（香农熵）： 是一种信息的度量方式，表示信息的混乱程度，也就是说：信息越有序，信息熵越低。例如：火柴有序放在火柴盒里，熵值很低，相反，熵值很高。\n",
    "(3)信息增益： 在划分数据集前后信息发生的变化称为信息增益。\n",
    "\n",
    "2.2决策树 工作原理\n",
    "如何构造一个决策树?\n",
    "我们使用 createBranch() 方法，如下所示：\n",
    "\n",
    "检测数据集中每个子项是否属于统一分类:\n",
    "    If so return 类标签\n",
    "    Else:\n",
    "        寻找划分数据集的最好特征（划分之后信息熵最小，也就是信息增益最大的特征）\n",
    "        划分数据集\n",
    "        创建分支节点\n",
    "            for 每个划分的子集\n",
    "                调用函数 createBranch （创建分支的函数）并增加返回结果到分支节点中\n",
    "        return 分支节点\n",
    "    \n",
    "3.决策树 开发流程\n",
    "收集数据：可以使用任何方法。\n",
    "准备数据：树构造算法只适用于【标称型数据】，因此数值型数据必须离散化。\n",
    "分析数据：可以使用任何方法，构造树完成之后，我们应该检查图形是否符合预期。\n",
    "训练算法：构造树的数据结构。\n",
    "测试算法：使用经验树计算错误率。（经验树没有搜索到较好的资料，有兴趣的同学可以来补充）\n",
    "使用算法：此步骤可以适用于任何监督学习算法，而使用决策树可以更好地理解数据的内在含义。\n",
    "目前常用的决策树算法有ID3算法、改进的C4.5算法和CART算法\n",
    "\n",
    "4.决策树 算法特点\n",
    "优点：计算复杂度不高，输出结果易于理解，对中间值的缺失不敏感，可以处理不相关特征数据。\n",
    "缺点：可能会产生过度匹配问题。\n",
    "适用数据类型：数值型和标称型。\n",
    "\n",
    "5.决策树学习基本算法\n",
    "\n",
    "输入：训练集 D = {(x1,y1),(x2,y2)````(xm,ym)};\n",
    "     属性集 A = {a1, a2,`````,ad}.\n",
    "过程：函数TreeGenerate(D,A)\n",
    "1.生产节点node；\n",
    "2.if D中样本全属于同一类别C then\n",
    "3.   将node标记为C类叶节点；return\n",
    "4.end if\n",
    "5.if A=null OR D中样本在A上取值相同 then\n",
    "6.   将node标记为叶节点，其类别标记为D中样本数最多的类；then\n",
    "7.end if\n",
    "8.从A中选择最优划分属性a*；\n",
    "9.for a*的每一个值av* do\n",
    "10.   为node生成一个分之；令Dv表示D中在a*上取值为av*的样本子集\n",
    "11.   if Dv为空 then\n",
    "12.      将分支结点标记为叶结点，其类别标记为D中样本最多的类；return\n",
    "13.   else\n",
    "14.      以 TreeGenerate(Dv, A\\{a*})为分支结点\n",
    "15.   end if\n",
    "16.end if\n",
    "输出：以node为根结点的一棵决策树\n",
    "\n",
    "6.叶节点的产生条件:\n",
    "1.当前结点包含的样本全属于同一类别，无需划分\n",
    "2.当前属性集为空，或是所有样本在属性上取值相同，无法划分\n",
    "3.当前结点包含的样本集合为空，不能划分\n"
   ]
  },
  {
   "cell_type": "markdown",
   "metadata": {},
   "source": [
    "# 【决策树 项目案例】"
   ]
  },
  {
   "cell_type": "markdown",
   "metadata": {},
   "source": [
    "## 项目案例1: 判定鱼类和非鱼类"
   ]
  },
  {
   "cell_type": "raw",
   "metadata": {},
   "source": [
    "项目概述\n",
    "根据以下 2 个特征，将动物分成两类：鱼类和非鱼类。\n",
    "\n",
    "特征：\n",
    "1.不浮出水面是否可以生存\n",
    "2.是否有脚蹼\n",
    "\n",
    "开发流程：\n",
    "1.收集数据：可以使用任何方法 \n",
    "2.准备数据：树构造算法只适用于标称型数据，因此数值型数据必须离散化\n",
    "3.分析数据：可以使用任何方法，构造树完成之后，我们应该检查图形是否符合预期\n",
    "4.训练算法：构造树的数据结构\n",
    "5.测试算法：使用决策树执行分类\n",
    "6.使用算法：此步骤可以适用于任何监督学习算法，而使用决策树可以更好地理解数据的内在含义"
   ]
  },
  {
   "cell_type": "markdown",
   "metadata": {},
   "source": [
    "### 1.收集数据：可以使用任何方法"
   ]
  },
  {
   "cell_type": "code",
   "execution_count": 1,
   "metadata": {
    "ExecuteTime": {
     "end_time": "2018-07-25T07:34:19.986486Z",
     "start_time": "2018-07-25T07:34:19.976670Z"
    },
    "collapsed": true
   },
   "outputs": [],
   "source": [
    "from math import log\n",
    "import operator\n",
    "#import treePlotter\n",
    "#创建数据集\n",
    "\n",
    "def createDataSet():\n",
    "    dataSet = [[1, 1, 'yes'],\n",
    "               [1, 1, 'yes'],\n",
    "               [1, 0, 'no'],\n",
    "               [0, 1, 'no'],\n",
    "               [0, 1, 'no']]\n",
    "    labels = ['no surfing ', 'flippers']\n",
    "    #change to discrete values\n",
    "    return dataSet, labels"
   ]
  },
  {
   "cell_type": "markdown",
   "metadata": {},
   "source": [
    "### 2.准备数据：树构造算法只适用于标称型数据，因此数值型数据必须离散化"
   ]
  },
  {
   "cell_type": "markdown",
   "metadata": {},
   "source": [
    "### 3.分析数据：可以使用任何方法，构造树完成之后，我们应该检查图形是否符合预期"
   ]
  },
  {
   "cell_type": "markdown",
   "metadata": {},
   "source": [
    "#### 3-1计算给定数据集的香农熵的函数"
   ]
  },
  {
   "cell_type": "code",
   "execution_count": 2,
   "metadata": {
    "ExecuteTime": {
     "end_time": "2018-07-25T07:35:23.808488Z",
     "start_time": "2018-07-25T07:35:23.789180Z"
    },
    "collapsed": true
   },
   "outputs": [],
   "source": [
    "#这段代码主要用于计算数据的每个特征信息熵，信息熵用于描述数据的混乱程度，信息熵越大说明数据包含的信息越多，也就是数据的波动越大\n",
    "from math import log\n",
    "def calcShannonEnt(dataSet):\n",
    "    # 求list的长度，表示计算参与训练的数据量\n",
    "    numEntries = len(dataSet)\n",
    "    # 计算分类标签label出现的次数\n",
    "    labelCounts = {}\n",
    "    # the the number of unique elements and their occurance\n",
    "    for featVec in dataSet:\n",
    "        # 将当前实例的标签存储，即每一行数据的最后一个数据代表的是标签\n",
    "        currentLabel = featVec[-1]\n",
    "        # 为所有可能的分类创建字典，如果当前的键值不存在，则扩展字典并将当前键值加入字典。每个键值都记录了当前类别出现的次数。\n",
    "        if currentLabel not in labelCounts.keys():\n",
    "            labelCounts[currentLabel] = 0\n",
    "        labelCounts[currentLabel] += 1\n",
    "\n",
    "    # 对于 label 标签的占比，求出 label 标签的香农熵\n",
    "    shannonEnt = 0.0\n",
    "    for key in labelCounts:\n",
    "        # 使用所有类标签的发生频率计算类别出现的概率。\n",
    "        prob = float(labelCounts[key])/numEntries\n",
    "        # 计算香农熵，以 2 为底求对数\n",
    "        shannonEnt -= prob * log(prob, 2)\n",
    "    return shannonEnt"
   ]
  },
  {
   "cell_type": "markdown",
   "metadata": {},
   "source": [
    "#### 3-2按照给定特征划分数据集\n",
    "度量数据集的无序程度，分类算法除了需要测量信息熵，还需要划分数据集，度量划分数据集的熵，以便判断当前是否正确地划分了数据集\n",
    "将对每个特征划分数据集结果计算一次信息熵，然后判断按照哪个数据集是最好的划分方式"
   ]
  },
  {
   "cell_type": "code",
   "execution_count": 3,
   "metadata": {
    "ExecuteTime": {
     "end_time": "2018-07-25T07:48:40.794012Z",
     "start_time": "2018-07-25T07:48:40.775507Z"
    },
    "collapsed": true
   },
   "outputs": [],
   "source": [
    "def splitDataSet(dataSet, axis, value):\n",
    "    \"\"\"splitDataSet(通过遍历dataSet数据集，求出axis对应的colnum列的值为value的行)\n",
    "        就是依据axis列进行分类，如果axis列的数据等于 value 的时候，就要将 axis 划分到我们创建的新的数据集中\n",
    "    Args:\n",
    "        dataSet 数据集                 待划分的数据集\n",
    "        axis 表示每一行的axis列        划分数据集的特征\n",
    "        value 表示axis列对应的value值   需要返回的特征的值。\n",
    "    Returns:\n",
    "        axis列为value的数据集【该数据集需要排除axis列】\n",
    "    \"\"\"\n",
    "    retDataSet = []\n",
    "    for featVec in dataSet: \n",
    "        # iaxis列为value的数据集【该数据集需要排除axis列】\n",
    "        # 判断axis列的值是否为value\n",
    "        if featVec[axis] == value:\n",
    "            # chop out axis used for splitting\n",
    "            # [:axis]表示前axis行，即若 axis为2，就是取 featVec 的前 axis 行\n",
    "            reducedFeatVec = featVec[:axis]\n",
    "            '''\n",
    "            请百度查询一下： extend和append的区别\n",
    "            list.append(object) 向列表中添加一个对象object\n",
    "            list.extend(sequence) 把一个序列seq的内容添加到列表中\n",
    "            1、使用append的时候，是将new_media看作一个对象，整体打包添加到music_media对象中。\n",
    "            2、使用extend的时候，是将new_media看作一个序列，将这个序列和music_media序列合并，并放在其后面。\n",
    "            result = []\n",
    "            result.extend([1,2,3])\n",
    "            print result\n",
    "            result.append([4,5,6])\n",
    "            print result\n",
    "            result.extend([7,8,9])\n",
    "            print result\n",
    "            结果：\n",
    "            [1, 2, 3]\n",
    "            [1, 2, 3, [4, 5, 6]]\n",
    "            [1, 2, 3, [4, 5, 6], 7, 8, 9]\n",
    "            '''\n",
    "            reducedFeatVec.extend(featVec[axis+1:])\n",
    "            # [axis+1:]表示从跳过 axis 的 axis+1行，取接下来的数据\n",
    "            # 收集结果值 axis列为value的行【该行需要排除axis列】\n",
    "            retDataSet.append(reducedFeatVec)\n",
    "    return retDataSet"
   ]
  },
  {
   "cell_type": "markdown",
   "metadata": {
    "ExecuteTime": {
     "end_time": "2018-07-25T07:26:41.383651Z",
     "start_time": "2018-07-25T07:26:41.377866Z"
    }
   },
   "source": [
    "#### 3-3选择最好的数据集划分方式"
   ]
  },
  {
   "cell_type": "code",
   "execution_count": 4,
   "metadata": {
    "ExecuteTime": {
     "end_time": "2018-07-25T07:52:49.501946Z",
     "start_time": "2018-07-25T07:52:49.467170Z"
    },
    "collapsed": true
   },
   "outputs": [],
   "source": [
    "def chooseBestFeatureToSplit(dataSet):\n",
    "    \"\"\"chooseBestFeatureToSplit(选择最好的特征)\n",
    "\n",
    "    Args:\n",
    "        dataSet 数据集\n",
    "    Returns:\n",
    "        bestFeature 最优的特征列\n",
    "    \"\"\"\n",
    "    # 求第一行有多少列的 Feature, 最后一列是label列嘛\n",
    "    numFeatures = len(dataSet[0]) - 1\n",
    "    # 数据集的原始信息熵\n",
    "    baseEntropy = calcShannonEnt(dataSet)\n",
    "    # 最优的信息增益值, 和最优的Featurn编号\n",
    "    bestInfoGain, bestFeature = 0.0, -1\n",
    "    # iterate over all the features\n",
    "    for i in range(numFeatures):\n",
    "        # create a list of all the examples of this feature\n",
    "        # 获取对应的feature下的所有数据\n",
    "        featList = [example[i] for example in dataSet]\n",
    "        # get a set of unique values\n",
    "        # 获取剔重后的集合，使用set对list数据进行去重\n",
    "        uniqueVals = set(featList)\n",
    "        # 创建一个临时的信息熵\n",
    "        newEntropy = 0.0\n",
    "        # 遍历某一列的value集合，计算该列的信息熵 \n",
    "        # 遍历当前特征中的所有唯一属性值，对每个唯一属性值划分一次数据集，计算数据集的新熵值，并对所有唯一特征值得到的熵求和。\n",
    "        for value in uniqueVals:\n",
    "            subDataSet = splitDataSet(dataSet, i, value)\n",
    "            # 计算概率\n",
    "            prob = len(subDataSet)/float(len(dataSet))\n",
    "            # 计算信息熵\n",
    "            newEntropy += prob * calcShannonEnt(subDataSet)\n",
    "        # gain[信息增益]: 划分数据集前后的信息变化， 获取信息熵最大的值\n",
    "        # 信息增益是熵的减少或者是数据无序度的减少。最后，比较所有特征中的信息增益，返回最好特征划分的索引值。\n",
    "        infoGain = baseEntropy - newEntropy\n",
    "        #print ('infoGain=', infoGain, 'bestFeature=', i, baseEntropy, newEntropy)\n",
    "        if (infoGain > bestInfoGain):\n",
    "            bestInfoGain = infoGain\n",
    "            bestFeature = i\n",
    "    return bestFeature"
   ]
  },
  {
   "cell_type": "markdown",
   "metadata": {
    "heading_collapsed": true
   },
   "source": [
    "### 4.训练算法：构造树的数据结构"
   ]
  },
  {
   "cell_type": "markdown",
   "metadata": {
    "hidden": true
   },
   "source": [
    "#### 3-4创建树的函数代码如下："
   ]
  },
  {
   "cell_type": "code",
   "execution_count": 5,
   "metadata": {
    "ExecuteTime": {
     "end_time": "2018-07-25T08:00:22.068319Z",
     "start_time": "2018-07-25T08:00:22.059694Z"
    },
    "code_folding": [],
    "collapsed": true,
    "hidden": true
   },
   "outputs": [],
   "source": [
    "def majorityCnt(classList):\n",
    "    classCount = {}\n",
    "    for vote in classList:\n",
    "        if vote not in classCount.keys():\n",
    "            classCount[vote] = 0\n",
    "        classCount[vote] += 1\n",
    "    sortedClassList = sorted(classCount.iteritems(), key = operator.itemgetter(1), reverse = True)\n",
    "    return sortedClassList[0][0]"
   ]
  },
  {
   "cell_type": "code",
   "execution_count": 6,
   "metadata": {
    "ExecuteTime": {
     "end_time": "2018-07-25T08:00:23.022432Z",
     "start_time": "2018-07-25T08:00:22.990056Z"
    },
    "collapsed": true,
    "hidden": true
   },
   "outputs": [],
   "source": [
    "def createTree(dataSet, labels):\n",
    "    classList = [example[-1] for example in dataSet]\n",
    "    # 如果数据集的最后一列的第一个值出现的次数=整个集合的数量，也就说只有一个类别，就只直接返回结果就行\n",
    "    # 第一个停止条件：所有的类标签完全相同，则直接返回该类标签。\n",
    "    # count() 函数是统计括号中的值在list中出现的次数\n",
    "    if classList.count(classList[0]) == len(classList):\n",
    "        return classList[0]\n",
    "    # 如果数据集只有1列，那么最初出现label次数最多的一类，作为结果\n",
    "    # 第二个停止条件：使用完了所有特征，仍然不能将数据集划分成仅包含唯一类别的分组。\n",
    "    if len(dataSet[0]) == 1:\n",
    "        return majorityCnt(classList)\n",
    "\n",
    "    # 选择最优的列，得到最优列对应的label含义\n",
    "    bestFeat = chooseBestFeatureToSplit(dataSet)\n",
    "    # 获取label的名称\n",
    "    bestFeatLabel = labels[bestFeat]\n",
    "    # 初始化myTree\n",
    "    myTree = {bestFeatLabel: {}}\n",
    "    # 注：labels列表是可变对象，在PYTHON函数中作为参数时传址引用，能够被全局修改\n",
    "    # 所以这行代码导致函数外的同名变量被删除了元素，造成例句无法执行，提示'no surfacing' is not in list\n",
    "    del(labels[bestFeat])\n",
    "    # 取出最优列，然后它的branch做分类\n",
    "    featValues = [example[bestFeat] for example in dataSet]\n",
    "    uniqueVals = set(featValues)\n",
    "    for value in uniqueVals:\n",
    "        # 求出剩余的标签label\n",
    "        subLabels = labels[:]\n",
    "        # 遍历当前选择特征包含的所有属性值，在每个数据集划分上递归调用函数createTree()\n",
    "        myTree[bestFeatLabel][value] = createTree(splitDataSet(dataSet, bestFeat, value), subLabels)\n",
    "        # print 'myTree', value, myTree\n",
    "    return myTree"
   ]
  },
  {
   "cell_type": "markdown",
   "metadata": {},
   "source": [
    "### 5.测试算法：使用决策树执行分类"
   ]
  },
  {
   "cell_type": "markdown",
   "metadata": {},
   "source": [
    "##### 3-8使用决策树的分类函数"
   ]
  },
  {
   "cell_type": "raw",
   "metadata": {},
   "source": [
    "def classify(inputTree, featLabels, testVec):\n",
    "    \"\"\"classify(给输入的节点，进行分类)\n",
    "\n",
    "    Args:\n",
    "        inputTree  决策树模型\n",
    "        featLabels Feature标签对应的名称\n",
    "        testVec    测试输入的数据\n",
    "    Returns:\n",
    "        classLabel 分类的结果值，需要映射label才能知道名称\n",
    "    \"\"\"\n",
    "    # 获取tree的根节点对于的key值\n",
    "    firstStr = list(inputTree.keys())[0]\n",
    "    # 通过key得到根节点对应的value\n",
    "    secondDict = inputTree[firstStr]\n",
    "    # 判断根节点名称获取根节点在label中的先后顺序，这样就知道输入的testVec怎么开始对照树来做分类\n",
    "    featIndex = featLabels.index(firstStr)\n",
    "    # 测试数据，找到根节点对应的label位置，也就知道从输入的数据的第几位来开始分类\n",
    "    key = testVec[featIndex]\n",
    "    valueOfFeat = secondDict[key]\n",
    "    print('+++', firstStr, 'xxx', secondDict, '---', key, '>>>', valueOfFeat)\n",
    "    # 判断分枝是否结束: 判断valueOfFeat是否是dict类型\n",
    "    if isinstance(valueOfFeat, dict):\n",
    "        classLabel = classify(valueOfFeat, featLabels, testVec)\n",
    "    else:\n",
    "        classLabel = valueOfFeat\n",
    "    return classLabel"
   ]
  },
  {
   "cell_type": "code",
   "execution_count": 7,
   "metadata": {
    "ExecuteTime": {
     "end_time": "2018-07-25T08:12:54.920020Z",
     "start_time": "2018-07-25T08:12:54.898059Z"
    },
    "collapsed": true
   },
   "outputs": [],
   "source": [
    "def classify(inputTree, featLabels, testVec):\n",
    "    \"\"\"classify(给输入的节点，进行分类)\n",
    "\n",
    "    Args:\n",
    "        inputTree  决策树模型\n",
    "        featLabels Feature标签对应的名称\n",
    "        testVec    测试输入的数据\n",
    "    Returns:\n",
    "        classLabel 分类的结果值，需要映射label才能知道名称\n",
    "    \"\"\"\n",
    "    # 获取tree的根节点对于的key值\n",
    "    firstStr = list(inputTree.keys())[0]\n",
    "    # 通过key得到根节点对应的value\n",
    "    secondDict = inputTree[firstStr]\n",
    "    # 判断根节点名称获取根节点在label中的先后顺序，这样就知道输入的testVec怎么开始对照树来做分类\n",
    "    featIndex = featLabels.index(firstStr)\n",
    "    for key in secondDict.keys():\n",
    "        if testVec[featIndex] == key:\n",
    "            if type(secondDict[key]).__name__ == 'dict':\n",
    "                classLabel = classify(secondDict[key], featLabels, testVec)\n",
    "            else: classLabel = secondDict[key]\n",
    "    return classLabel"
   ]
  },
  {
   "cell_type": "markdown",
   "metadata": {},
   "source": [
    "### 6.使用算法：此步骤可以适用于任何监督学习算法，而使用决策树可以更好地理解数据的内在含义。"
   ]
  },
  {
   "cell_type": "code",
   "execution_count": 10,
   "metadata": {
    "ExecuteTime": {
     "end_time": "2018-07-25T08:13:53.389441Z",
     "start_time": "2018-07-25T08:13:53.372663Z"
    }
   },
   "outputs": [
    {
     "data": {
      "text/plain": [
       "{'no surfing ': {0: 'no', 1: {'flippers': {0: 'no', 1: 'yes'}}}}"
      ]
     },
     "execution_count": 10,
     "metadata": {},
     "output_type": "execute_result"
    }
   ],
   "source": [
    "myDat, labels = createDataSet()\n",
    "myTree = createTree(myDat, labels)\n",
    "myTree"
   ]
  },
  {
   "cell_type": "markdown",
   "metadata": {},
   "source": [
    "## 项目案例2: 使用决策树预测隐形眼镜类型"
   ]
  },
  {
   "cell_type": "markdown",
   "metadata": {},
   "source": [
    "项目概述\n",
    "隐形眼镜类型包括硬材质、软材质以及不适合佩戴隐形眼镜。我们需要使用决策树预测患者需要佩戴的隐形眼镜类型。\n",
    "\n",
    "开发流程\n",
    "1.收集数据: 提供的文本文件。\n",
    "2.解析数据: 解析 tab 键分隔的数据行\n",
    "3.分析数据: 快速检查数据，确保正确地解析数据内容，使用 createPlot() 函数绘制最终的树形图。\n",
    "4.训练算法: 使用 createTree() 函数。\n",
    "5.测试算法: 编写测试函数验证决策树可以正确分类给定的数据实例。\n",
    "6.使用算法: 存储树的数据结构，以便下次使用时无需重新构造树。"
   ]
  },
  {
   "cell_type": "markdown",
   "metadata": {},
   "source": [
    "### 1.收集数据：提供的文本文件"
   ]
  },
  {
   "cell_type": "code",
   "execution_count": 57,
   "metadata": {
    "ExecuteTime": {
     "end_time": "2018-07-25T11:59:33.661447Z",
     "start_time": "2018-07-25T11:59:33.655268Z"
    }
   },
   "outputs": [],
   "source": [
    "with open('/Users/yuchenlin/Desktop/ml/ml_implemention/machinelearninginaction_dataset/Ch03/lenses.txt') as f:\n",
    "    data = f.readlines()\n",
    "#fr = open(\"/Users/yuchenlin/Desktop/ml/ml_implemention/machinelearninginaction_dataset/Ch03/lenses.txt\")\n",
    "#fr"
   ]
  },
  {
   "cell_type": "markdown",
   "metadata": {},
   "source": [
    "### 2.解析数据：解析 tab 键分隔的数据行"
   ]
  },
  {
   "cell_type": "code",
   "execution_count": 58,
   "metadata": {
    "ExecuteTime": {
     "end_time": "2018-07-25T11:59:35.828322Z",
     "start_time": "2018-07-25T11:59:35.821131Z"
    }
   },
   "outputs": [
    {
     "data": {
      "text/plain": [
       "['young\\tmyope\\tno\\treduced\\tno lenses\\n',\n",
       " 'young\\tmyope\\tno\\tnormal\\tsoft\\n',\n",
       " 'young\\tmyope\\tyes\\treduced\\tno lenses\\n',\n",
       " 'young\\tmyope\\tyes\\tnormal\\thard\\n',\n",
       " 'young\\thyper\\tno\\treduced\\tno lenses\\n',\n",
       " 'young\\thyper\\tno\\tnormal\\tsoft\\n',\n",
       " 'young\\thyper\\tyes\\treduced\\tno lenses\\n',\n",
       " 'young\\thyper\\tyes\\tnormal\\thard\\n',\n",
       " 'pre\\tmyope\\tno\\treduced\\tno lenses\\n',\n",
       " 'pre\\tmyope\\tno\\tnormal\\tsoft\\n',\n",
       " 'pre\\tmyope\\tyes\\treduced\\tno lenses\\n',\n",
       " 'pre\\tmyope\\tyes\\tnormal\\thard\\n',\n",
       " 'pre\\thyper\\tno\\treduced\\tno lenses\\n',\n",
       " 'pre\\thyper\\tno\\tnormal\\tsoft\\n',\n",
       " 'pre\\thyper\\tyes\\treduced\\tno lenses\\n',\n",
       " 'pre\\thyper\\tyes\\tnormal\\tno lenses\\n',\n",
       " 'presbyopic\\tmyope\\tno\\treduced\\tno lenses\\n',\n",
       " 'presbyopic\\tmyope\\tno\\tnormal\\tno lenses\\n',\n",
       " 'presbyopic\\tmyope\\tyes\\treduced\\tno lenses\\n',\n",
       " 'presbyopic\\tmyope\\tyes\\tnormal\\thard\\n',\n",
       " 'presbyopic\\thyper\\tno\\treduced\\tno lenses\\n',\n",
       " 'presbyopic\\thyper\\tno\\tnormal\\tsoft\\n',\n",
       " 'presbyopic\\thyper\\tyes\\treduced\\tno lenses\\n',\n",
       " 'presbyopic\\thyper\\tyes\\tnormal\\tno lenses\\n']"
      ]
     },
     "execution_count": 58,
     "metadata": {},
     "output_type": "execute_result"
    }
   ],
   "source": [
    "data"
   ]
  },
  {
   "cell_type": "code",
   "execution_count": 59,
   "metadata": {
    "ExecuteTime": {
     "end_time": "2018-07-25T11:59:38.639634Z",
     "start_time": "2018-07-25T11:59:38.632966Z"
    }
   },
   "outputs": [
    {
     "name": "stdout",
     "output_type": "stream",
     "text": [
      "[['young', 'myope', 'no', 'reduced', 'no lenses'], ['young', 'myope', 'no', 'normal', 'soft'], ['young', 'myope', 'yes', 'reduced', 'no lenses'], ['young', 'myope', 'yes', 'normal', 'hard'], ['young', 'hyper', 'no', 'reduced', 'no lenses'], ['young', 'hyper', 'no', 'normal', 'soft'], ['young', 'hyper', 'yes', 'reduced', 'no lenses'], ['young', 'hyper', 'yes', 'normal', 'hard'], ['pre', 'myope', 'no', 'reduced', 'no lenses'], ['pre', 'myope', 'no', 'normal', 'soft'], ['pre', 'myope', 'yes', 'reduced', 'no lenses'], ['pre', 'myope', 'yes', 'normal', 'hard'], ['pre', 'hyper', 'no', 'reduced', 'no lenses'], ['pre', 'hyper', 'no', 'normal', 'soft'], ['pre', 'hyper', 'yes', 'reduced', 'no lenses'], ['pre', 'hyper', 'yes', 'normal', 'no lenses'], ['presbyopic', 'myope', 'no', 'reduced', 'no lenses'], ['presbyopic', 'myope', 'no', 'normal', 'no lenses'], ['presbyopic', 'myope', 'yes', 'reduced', 'no lenses'], ['presbyopic', 'myope', 'yes', 'normal', 'hard'], ['presbyopic', 'hyper', 'no', 'reduced', 'no lenses'], ['presbyopic', 'hyper', 'no', 'normal', 'soft'], ['presbyopic', 'hyper', 'yes', 'reduced', 'no lenses'], ['presbyopic', 'hyper', 'yes', 'normal', 'no lenses']]\n"
     ]
    }
   ],
   "source": [
    "lenses = [inst.strip().split('\\t') for inst in data]\n",
    "print(lenses)\n",
    "lensesLabels = ['age', 'prescript', 'astigmatic', 'tearRate']"
   ]
  },
  {
   "cell_type": "markdown",
   "metadata": {},
   "source": [
    "### 3.分析数据：快速检查数据，确保正确地解析数据内容，使用 createPlot() 函数绘制最终的树形图。"
   ]
  },
  {
   "cell_type": "code",
   "execution_count": 51,
   "metadata": {
    "ExecuteTime": {
     "end_time": "2018-07-25T11:51:31.942461Z",
     "start_time": "2018-07-25T11:51:31.600800Z"
    }
   },
   "outputs": [
    {
     "data": {
      "image/png": "[encoded data removed]",
      "text/plain": [
       "<matplotlib.figure.Figure at 0x10e6839e8>"
      ]
     },
     "metadata": {},
     "output_type": "display_data"
    }
   ],
   "source": [
    "createPlot(lensesTree)"
   ]
  },
  {
   "cell_type": "markdown",
   "metadata": {},
   "source": [
    "### 4.训练算法：使用 createTree() 函数"
   ]
  },
  {
   "cell_type": "code",
   "execution_count": 50,
   "metadata": {
    "ExecuteTime": {
     "end_time": "2018-07-25T11:51:29.063633Z",
     "start_time": "2018-07-25T11:51:29.056722Z"
    }
   },
   "outputs": [
    {
     "name": "stdout",
     "output_type": "stream",
     "text": [
      "{'tearRate': {'reduced': 'no lenses', 'normal': {'astigmatic': {'no': {'age': {'presbyopic': {'prescript': {'hyper': 'soft', 'myope': 'no lenses'}}, 'pre': 'soft', 'young': 'soft'}}, 'yes': {'prescript': {'hyper': {'age': {'presbyopic': 'no lenses', 'pre': 'no lenses', 'young': 'hard'}}, 'myope': 'hard'}}}}}}\n"
     ]
    }
   ],
   "source": [
    "lensesTree = createTree(lenses, lensesLabels)\n",
    "print(lensesTree)"
   ]
  },
  {
   "cell_type": "markdown",
   "metadata": {},
   "source": [
    "### 5.测试算法: 编写测试函数验证决策树可以正确分类给定的数据实例。"
   ]
  },
  {
   "cell_type": "code",
   "execution_count": 60,
   "metadata": {
    "ExecuteTime": {
     "end_time": "2018-07-25T11:59:44.393509Z",
     "start_time": "2018-07-25T11:59:44.383913Z"
    }
   },
   "outputs": [
    {
     "name": "stdout",
     "output_type": "stream",
     "text": [
      "no lenses\n"
     ]
    }
   ],
   "source": [
    "print(classify(lensesTree, lensesLabels, ['young', 'myope', 'no', 'reduced', 'no lenses']))"
   ]
  },
  {
   "cell_type": "markdown",
   "metadata": {
    "code_folding": []
   },
   "source": [
    "### 6.使用算法: 存储树的数据结构，以便下次使用时无需重新构造树。"
   ]
  },
  {
   "cell_type": "code",
   "execution_count": 55,
   "metadata": {
    "ExecuteTime": {
     "end_time": "2018-07-25T11:53:39.956262Z",
     "start_time": "2018-07-25T11:53:39.946617Z"
    }
   },
   "outputs": [],
   "source": [
    "#使用 pickle 模块存储决策树\n",
    "\n",
    "def storeTree(inputTree, filename):\n",
    "    import pickle\n",
    "    fw = open(filename, 'w')\n",
    "    pickle.dump(inputTree, fw)\n",
    "    fw.close()\n",
    "\n",
    "def grabTree(filename):\n",
    "    import pickle\n",
    "    fr = open(filename)\n",
    "    return pickle.load(fr)"
   ]
  },
  {
   "cell_type": "code",
   "execution_count": null,
   "metadata": {
    "collapsed": true
   },
   "outputs": [],
   "source": []
  },
  {
   "cell_type": "raw",
   "metadata": {},
   "source": [
    "补充：sorted函数和operator.itemgetter函数\n",
    "\n",
    "来源：http://www.cnblogs.com/100thMountain/p/4719503.html\n",
    "\n",
    "\n",
    "operator.itemgetter函数\n",
    "operator模块提供的itemgetter函数用于获取对象的哪些维的数据，参数为一些序号（即需要获取的数据在对象中的序号），下面看例子。\n",
    "\n",
    "a = [1,2,3] \n",
    ">>> b=operator.itemgetter(1)      //定义函数b，获取对象的第1个域的值%此处可以看出定义的是函数\n",
    ">>> b(a) \n",
    "2 \n",
    ">>> b=operator.itemgetter(1,0)  //定义函数b，获取对象的第1个域和第0个的值\n",
    ">>> b(a) \n",
    "(2, 1)\n",
    "\n",
    "要注意，operator.itemgetter函数获取的不是值，而是定义了一个函数，通过该函数作用到对象上才能获取值。\n",
    "\n",
    "sorted函数\n",
    "Python内置的排序函数sorted可以对list或者iterator进行排序，该函数原型为：sorted(iterable[, cmp[, key[, reverse]]])\n",
    "参数解释：\n",
    "（1）iterable指定要排序的list或者iterable，不用多说；\n",
    "（2）cmp为函数，指定排序时进行比较的函数，可以指定一个函数或者lambda函数，如：\n",
    "      students为类对象的list，没个成员有三个域，用sorted进行比较时可以自己定cmp函数，例如这里要通过比较第三个数据成员来排序，代码可以这样写：\n",
    "      students = [('john', 'A', 15), ('jane', 'B', 12), ('dave', 'B', 10)]\n",
    "      sorted(students, key=lambda student : student[2])\n",
    "（3）key为函数，指定取待排序元素的哪一项进行排序，函数用上面的例子来说明，代码如下：\n",
    "      sorted(students, key=lambda student : student[2])\n",
    "      key指定的lambda函数功能是去元素student的第三个域（即：student[2]），因此sorted排序时，会以students所有元素的第三个域来进行排序。\n",
    "有了上面的operator.itemgetter函数，也可以用该函数来实现，例如要通过student的第三个域排序，可以这么写：\n",
    "sorted(students, key=operator.itemgetter(2)) \n",
    "sorted函数也可以进行多级排序，例如要根据第二个域和第三个域进行排序，可以这么写：\n",
    "sorted(students, key=operator.itemgetter(1,2))\n",
    "即先跟句第二个域排序，再根据第三个域排序。\n",
    "（4）reverse参数就不用多说了，是一个bool变量，表示升序还是降序排列，默认为false（升序排列），定义为True时将按降序排列。\n",
    "使用递归来构建决策树：\n",
    "\n",
    "递归的结束条件为划分完所有属性集或者每个分支下的实例都具有相同分类。"
   ]
  },
  {
   "cell_type": "code",
   "execution_count": null,
   "metadata": {
    "collapsed": true
   },
   "outputs": [],
   "source": []
  },
  {
   "cell_type": "code",
   "execution_count": null,
   "metadata": {
    "collapsed": true
   },
   "outputs": [],
   "source": []
  },
  {
   "cell_type": "markdown",
   "metadata": {
    "collapsed": true
   },
   "source": [
    "## echo train_"
   ]
  },
  {
   "cell_type": "markdown",
   "metadata": {},
   "source": [
    "### 1.首先创建一个数据集"
   ]
  },
  {
   "cell_type": "code",
   "execution_count": 3,
   "metadata": {
    "ExecuteTime": {
     "end_time": "2018-07-25T11:23:18.818029Z",
     "start_time": "2018-07-25T11:23:18.808634Z"
    },
    "collapsed": true
   },
   "outputs": [],
   "source": [
    "from math import log\n",
    "import operator\n",
    "#import treePlotter\n",
    "#创建数据集\n",
    "\n",
    "def createDataSet():\n",
    "    dataSet = [[1, 1, 'yes'],\n",
    "               [1, 1, 'yes'],\n",
    "               [1, 0, 'no'],\n",
    "               [0, 1, 'no'],\n",
    "               [0, 1, 'no']]\n",
    "    labels = ['no surfing ', 'flippers']\n",
    "    #change to discrete values\n",
    "    return dataSet, labels"
   ]
  },
  {
   "cell_type": "raw",
   "metadata": {},
   "source": [
    "\"\"\"\n",
    "【二】做数据集转换\n",
    "本文中我没有使用作者所提供的鱼的数据集，而是采用了UCI的机器学习数据集中的汽车评价数据集（http://archive.ics.uci.edu/ml/datasets/Car+Evaluation），里面有很多很好的数据集，建议做机器学习的同学多使用里面的数据。而UCI的数据集大部分都是txt格式的，所以写了段讲txt格式转换为矩阵的额外的代码。\n",
    "https://blog.csdn.net/cxjoker/article/details/79501887\n",
    "这段代码整体上比较简单，主要是用了readlines读取文本并且使用split对文本进行分割形成数据矩阵即可。\n",
    "\"\"\"\n",
    "def file2matrix(filename):\n",
    "    fr=open(filename)\n",
    "    lists=fr.readlines()\n",
    "    listnum=[]\n",
    "    for k in lists:\n",
    "        listnum.append(k.strip().split(','))  \n",
    "    return listnum\n"
   ]
  },
  {
   "cell_type": "raw",
   "metadata": {
    "ExecuteTime": {
     "end_time": "2018-07-23T00:35:09.088878Z",
     "start_time": "2018-07-23T00:35:09.077439Z"
    }
   },
   "source": [
    "d = {'a':3,'b':4}\n",
    "for v in d.values():\n",
    "    print(v)\n",
    "for k in d.keys():\n",
    "    print(k)\n",
    "for k, v in d.items():\n",
    "    print(k,v)"
   ]
  },
  {
   "cell_type": "markdown",
   "metadata": {},
   "source": [
    "### 2.计算香农熵"
   ]
  },
  {
   "cell_type": "markdown",
   "metadata": {},
   "source": [
    "这段代码主要是用于计算数据的每个特征信息熵，信息熵用于描述数据的混乱程度，信息熵越大说明数据包含的信息越多，也就是数据的波动越大。\n",
    "\n",
    "而ID3算法采用的是信息增益作为计算指标来评价每个特征所包含的信息的多少，而信息增益方法对可取数值较多的特征有所偏好，即本身可取数值较多的特征本身就包含更多的信息，为了减少这种偏好，又有C4.5和CART树，C4.5用信息增益率来衡量数据特征，从而摒除了这种偏好；CART树使用了“基尼指数”来衡量特征，基尼指数越小说明他的数据纯度就越高，选取特征时选取划分后使基尼指数最小的特征作为划分标准，即选取特征后使数据集变得更加纯，从而减少了数据集本身的混乱程度，本身决策树做的事情就是这个。"
   ]
  },
  {
   "cell_type": "code",
   "execution_count": 8,
   "metadata": {
    "ExecuteTime": {
     "end_time": "2018-07-25T11:25:05.739782Z",
     "start_time": "2018-07-25T11:25:05.719259Z"
    },
    "collapsed": true
   },
   "outputs": [],
   "source": [
    "#这段代码主要用于计算数据的每个特征信息熵，信息熵用于描述数据的混乱程度，信息熵越大说明数据包含的信息越多，也就是数据的波动越大\n",
    "from math import log\n",
    "def calcShannonEnt(dataSet):\n",
    "    numEntries = len(dataSet)\n",
    "    labelCounts = {}\n",
    "    for fectVec in dataSet:\n",
    "        currentLabel = fectVec[-1]\n",
    "        if currentLabel not in labelCounts.keys():\n",
    "            labelCounts[currentLabel] = 0\n",
    "        labelCounts[currentLabel] += 1\n",
    "    shannonEnt = 0.0\n",
    "    for value in labelCounts.values():\n",
    "        prob = float(value )/ numEntries\n",
    "        shannonEnt -= prob*log(prob, 2)\n",
    "    return shannonEnt  "
   ]
  },
  {
   "cell_type": "code",
   "execution_count": 13,
   "metadata": {
    "ExecuteTime": {
     "end_time": "2018-07-25T08:16:49.226129Z",
     "start_time": "2018-07-25T08:16:49.218220Z"
    }
   },
   "outputs": [
    {
     "data": {
      "text/plain": [
       "0.9709505944546686"
      ]
     },
     "execution_count": 13,
     "metadata": {},
     "output_type": "execute_result"
    }
   ],
   "source": [
    "myDat, labels =createDataSet()\n",
    "calcShannonEnt(myDat)"
   ]
  },
  {
   "cell_type": "raw",
   "metadata": {
    "ExecuteTime": {
     "end_time": "2018-07-21T08:15:30.861840Z",
     "start_time": "2018-07-21T08:15:30.842312Z"
    },
    "collapsed": true
   },
   "source": [
    "def calcShannonEnt(dataSet):   \n",
    "    numEntries = len(dataSet) #compute length of dataSet \n",
    "    labelCounts = {}\n",
    "    for featVec in dataSet:#迭代出每行数据\n",
    "        currentLabel = featVec[-1] # currentLabel赋值每行数据的类别标签，无法保存值\n",
    "        if currentLabel not in labelCounts.keys():\n",
    "            labelCounts[currentLabel] = 0 #若没有该键，则使用字典的自动添加进行添加值为0的项，取0是因为下一行代码 \n",
    "        labelCounts[currentLabel] += 1 #对currentlabel计数，每有一个key：currentlabel，就在对应的key的值上加一\n",
    "    shannonEnt = 0.0 \n",
    "    for key in labelCounts:\n",
    "        prob = float(labelCounts[key])/numEntries  \n",
    "        shannonEnt -= prob*log(prob, 2) # log base 2\n",
    "    return shannonEnt"
   ]
  },
  {
   "cell_type": "code",
   "execution_count": 21,
   "metadata": {
    "ExecuteTime": {
     "end_time": "2018-07-18T01:43:22.568495Z",
     "start_time": "2018-07-18T01:43:22.559996Z"
    }
   },
   "outputs": [
    {
     "name": "stdout",
     "output_type": "stream",
     "text": [
      "[[1, 1, 'maybe'], [1, 1, 'yes'], [1, 0, 'no'], [0, 1, 'no'], [0, 1, 'no']] ['no surfing ', 'flippers']\n",
      "Ent changed: 1.3709505944546687\n"
     ]
    }
   ],
   "source": [
    "myDat[0][-1] ='maybe'\n",
    "print(myDat, labels)\n",
    "print('Ent changed:', calcShannonEnt(myDat))\n",
    "#可以看出，在myDat[0][-1]更改之后，熵变大了。"
   ]
  },
  {
   "cell_type": "markdown",
   "metadata": {},
   "source": [
    "### 3.分离数据"
   ]
  },
  {
   "cell_type": "raw",
   "metadata": {},
   "source": [
    "度量数据集的无序程度，分类算法除了需要测量信息熵，还需要划分数据集，度量划分数据集的熵，以便判断当前是否正确地划分了数据集\n",
    "将对每个特征划分数据集结果计算一次信息熵，然后判断按照哪个数据集是最好的划分方式"
   ]
  },
  {
   "cell_type": "code",
   "execution_count": 9,
   "metadata": {
    "ExecuteTime": {
     "end_time": "2018-07-25T11:25:09.126787Z",
     "start_time": "2018-07-25T11:25:09.119555Z"
    },
    "collapsed": true
   },
   "outputs": [],
   "source": [
    "def splitDataSet(dataSet, axis, value):\n",
    "    retDataSet = []\n",
    "    for featVec in dataSet:\n",
    "        if featVec[axis] == value:\n",
    "            reducedFeatVec = featVec[:axis]\n",
    "            reducedFeatVec.extend(featVec[axis+1:])\n",
    "            retDataSet.append(reducedFeatVec)\n",
    "    return retDataSet"
   ]
  },
  {
   "cell_type": "code",
   "execution_count": 14,
   "metadata": {
    "ExecuteTime": {
     "end_time": "2018-07-25T08:17:32.810769Z",
     "start_time": "2018-07-25T08:17:32.802995Z"
    }
   },
   "outputs": [
    {
     "data": {
      "text/plain": [
       "[[1, 'yes'], [1, 'yes'], [0, 'no'], [0, 'no']]"
      ]
     },
     "execution_count": 14,
     "metadata": {},
     "output_type": "execute_result"
    }
   ],
   "source": [
    "myDat, label = createDataSet()\n",
    "splitDataSet(myDat, 1, 1)"
   ]
  },
  {
   "cell_type": "raw",
   "metadata": {
    "ExecuteTime": {
     "end_time": "2018-07-21T08:32:35.188786Z",
     "start_time": "2018-07-21T08:32:35.179740Z"
    },
    "code_folding": [],
    "collapsed": true
   },
   "source": [
    "# 分离数据\n",
    "def splitDataSet(dataSet, axis, value): \n",
    "    #待划分的数据集、划分数据集的特征、需要返回的特征的值\n",
    "    retDataSet = [] #创建新的list对象\n",
    "    for featVec in dataSet:  \n",
    "        \"\"\"数据集这个列表中的各个元素也是列表，要遍历数据集中每个元素，\n",
    "        一旦发现符合要求的值，则将其添加到新创建的列表中\n",
    "        \"\"\"\n",
    "        if featVec[axis] == value: #判断axis列的值是否为value，程序将符合特征的数据抽取出来\n",
    "            reducedFeatVec = featVec[:axis] # [:axis]表示前axis列，即若axis为2，就是取featVec的前axis列  print('1reducedFeatVec', reducedFeatVec)\n",
    "            reducedFeatVec.extend(featVec[axis+1:]) # [axis+1:]表示从跳过axis+1行，取接下来的数据 print('2reducedFeatVec', reducedFeatVec)\n",
    "            retDataSet.append(reducedFeatVec) # 列表扩展 print('3retDataSet', retDataSet)\n",
    "    return retDataSet"
   ]
  },
  {
   "cell_type": "raw",
   "metadata": {},
   "source": [
    "此段代码中用到了extend函数和append函数，都是做数据连接的，但是主要区别是append函数直接将连接的数据形成一个元素加入到列表中，而extend时将后段要加入的数据提取出其元素再加入到列表中去。举个栗子就是："
   ]
  },
  {
   "cell_type": "code",
   "execution_count": 15,
   "metadata": {
    "ExecuteTime": {
     "end_time": "2018-07-25T08:17:42.019486Z",
     "start_time": "2018-07-25T08:17:42.005870Z"
    }
   },
   "outputs": [
    {
     "name": "stdout",
     "output_type": "stream",
     "text": [
      "kk: ['1', '2', '3', ['4', '5', '6']]\n",
      "aa: ['1', '2', '3', '4', '5', '6']\n"
     ]
    }
   ],
   "source": [
    "kk=['1','2','3']\n",
    "bb=['4','5','6'] \n",
    "kk.append(bb)\n",
    "print('kk:',kk)\n",
    "\n",
    "aa=['1','2','3']\n",
    "bb=['4','5','6'] \n",
    "aa.extend(bb) \n",
    "print('aa:',aa)"
   ]
  },
  {
   "cell_type": "markdown",
   "metadata": {},
   "source": [
    "### 4.选择最优特征分离："
   ]
  },
  {
   "cell_type": "raw",
   "metadata": {},
   "source": [
    "选取特征的方法是计算每个特征的信息增益值，然后找到具有信息增益值最大的特征作为划分的依据进行数据集划分，"
   ]
  },
  {
   "cell_type": "markdown",
   "metadata": {},
   "source": [
    "一般Python for语句前不加语句，但我在机器学习实战中看到了这两条语句：\n",
    "\n",
    "featList = [example[i] for example in dataSet]\n",
    "\n",
    "classList = [example[-1] for example in dataSet]\n",
    "\n",
    "多方研究和询问，得到如下解释：\n",
    "\n",
    "语句featList = [example[i] for example in dataSet]作用为： \n",
    "将dataSet中的数据按行依次放入example中，然后取得example中的example[i]元素，放入列表featList中\n",
    "\n",
    "语句classList = [example[-1] for example in dataSet]作用为： \n",
    "将dataSet中的数据按行依次放入example中，然后取得example中的example[-1]元素，放入列表classList中\n",
    "\n",
    "总而言之，类似上述两种for循环形式可以很方便地用来创建列表，如下例："
   ]
  },
  {
   "cell_type": "code",
   "execution_count": 85,
   "metadata": {
    "ExecuteTime": {
     "end_time": "2018-07-21T12:19:26.097207Z",
     "start_time": "2018-07-21T12:19:26.090771Z"
    }
   },
   "outputs": [
    {
     "name": "stdout",
     "output_type": "stream",
     "text": [
      "[1, 1, 1, 0, 0]\n",
      "[1, 1, 0, 1, 1]\n"
     ]
    }
   ],
   "source": [
    "for i in range(2):\n",
    "    featList = [example[i] for example in myDat]\n",
    "    print(featList)"
   ]
  },
  {
   "cell_type": "code",
   "execution_count": 83,
   "metadata": {
    "ExecuteTime": {
     "end_time": "2018-07-21T12:18:07.732413Z",
     "start_time": "2018-07-21T12:18:07.724864Z"
    }
   },
   "outputs": [
    {
     "name": "stdout",
     "output_type": "stream",
     "text": [
      "[1, 1, 'yes']\n",
      "[1, 1, 'yes']\n"
     ]
    }
   ],
   "source": [
    "for i in range(2):\n",
    "    featList = [example for example in myDat[i]]\n",
    "    print(featList)"
   ]
  },
  {
   "cell_type": "code",
   "execution_count": 10,
   "metadata": {
    "ExecuteTime": {
     "end_time": "2018-07-25T11:25:14.376793Z",
     "start_time": "2018-07-25T11:25:14.348143Z"
    },
    "collapsed": true
   },
   "outputs": [],
   "source": [
    "# 选择最优特征进行分离\n",
    "def chooseBestFeatureToSplit(dataSet):#就算出信息增益之后选取信息增益值最高的特征作为下一次分类的标准\n",
    "    numFeatures = len(dataSet[0]) -1  # 计算特征数量，列表【0】表示列的数量，-1是减去最后的类别特征the last column is used for the labels，这是一个list，取行\n",
    "    baseEntropy = calcShannonEnt(dataSet) #计算数据集的信息熵\n",
    "    bestInfoGain = 0.0\n",
    "    bestFeature = -1\n",
    "    for i in range(numFeatures):\n",
    "    #计算每一特征对应的熵，然后：iterate over all the features\n",
    "        featList = [example[i] for example in dataSet]\n",
    "        #create a list of all the examples of this feature\n",
    "        #print('featList:', featList)\n",
    "        uniqueVals = set(featList)  # #确定某一特征下所有可能的取值 get a set of unique values\n",
    "        #print('uniqueVals:', uniqueVals)\n",
    "        newEntropy = 0.0\n",
    "        for value in uniqueVals:\n",
    "            subDataSet = splitDataSet(dataSet, i, value) #抽取在该特征的每个取值下其他特征的值组成新的子数据集\n",
    "            #print(' subDataSet:', subDataSet)\n",
    "            prob = len(subDataSet)/float(len(dataSet)) # 计算该特征下的每一个取值对应的概率（或者说所占的比重），子数据集在总的数据集中的比值\n",
    "            newEntropy += prob*calcShannonEnt(subDataSet)#计算该特征下每一个取值的子数据集的信息熵\n",
    "        infoGain = baseEntropy - newEntropy \n",
    "        #  print(\"第%d个特征是的取值是%s，对应的信息增益值是%f\"%((i+1),uniquevals,infogain))\n",
    "        if (infoGain > bestInfoGain):\n",
    "            bestInfoGain = infoGain\n",
    "            bestFeature = i\n",
    "    # print(\"第%d个特征的信息增益最大，所以选择它作为划分的依据，其特征的取值为%s,对应的信息增益值是%f\"%((i+1),uniquevals,infogain)\n",
    "    return bestFeature\n",
    "    # 选出最优的特征，并返回特征角标 returns an integer"
   ]
  },
  {
   "cell_type": "code",
   "execution_count": 17,
   "metadata": {
    "ExecuteTime": {
     "end_time": "2018-07-25T08:18:18.232428Z",
     "start_time": "2018-07-25T08:18:18.225090Z"
    }
   },
   "outputs": [
    {
     "name": "stdout",
     "output_type": "stream",
     "text": [
      "the best feature is: 0\n"
     ]
    }
   ],
   "source": [
    "myDat, label = createDataSet()\n",
    "print ('the best feature is:', chooseBestFeatureToSplit(myDat))"
   ]
  },
  {
   "cell_type": "markdown",
   "metadata": {},
   "source": [
    "### 5.统计出现次数最多的分类名称"
   ]
  },
  {
   "cell_type": "raw",
   "metadata": {},
   "source": [
    "决策树构建结束的标准是该分支下面所有的数据都具有相同的分类，如果所有数据都具有相同的分类，则得到的叶子结点或者终止块，任何到达这个叶子结点的必属于这个分类，上代码。"
   ]
  },
  {
   "cell_type": "code",
   "execution_count": 11,
   "metadata": {
    "ExecuteTime": {
     "end_time": "2018-07-25T11:25:22.629307Z",
     "start_time": "2018-07-25T11:25:22.619100Z"
    },
    "collapsed": true
   },
   "outputs": [],
   "source": [
    "#统计出现次数最多的分类名称\n",
    "def majorityCnt(classList):\n",
    "#针对所有特征都用完，但是最后一个特征中类别还是存在很大差异，比如西瓜颜色为青绿的情况下同时存在好瓜和坏瓜，无法进行划分，此时选取该类别中最多的类\n",
    "#作为划分的返回值，majoritycnt的作用就是找到类别最多的一个作为返回值\n",
    "    classCount={}#创建字典\n",
    "    for vote in classList:\n",
    "        if vote not in classCount.keys():\n",
    "            classCount[vote] = 0 #如果现阶段的字典中缺少这一类的特征，创建到字典中并令其值为0\n",
    "        classCount[vote] += 1 #循环一次，在对应的字典索引vote的数量上加一\n",
    "    sortedClassCount = sorted(classCount.items(), key=operator.itemgetter(1), reverse=True)\n",
    "    #operator.itemgetter(1)是抓取其中第2个数据的值\n",
    "    #利用sorted方法对class count进行排序，并且以key=operator.itemgetter(1)作为排序依据降序排序因为用了（reverse=True）,3.0以上的版本不再有iteritems而是items\n",
    "    return sortedClassCount[0][0]"
   ]
  },
  {
   "cell_type": "code",
   "execution_count": 34,
   "metadata": {
    "ExecuteTime": {
     "end_time": "2018-07-23T01:28:12.648410Z",
     "start_time": "2018-07-23T01:28:12.639986Z"
    }
   },
   "outputs": [
    {
     "name": "stdout",
     "output_type": "stream",
     "text": [
      "no\n"
     ]
    }
   ],
   "source": [
    "myDat, label = createDataSet()\n",
    "classList2 = [example[-1] for example in myDat]# clasList 是所有类标签\n",
    "#majorityCnt(classList)\n",
    "print ( majorityCnt(classList2))"
   ]
  },
  {
   "cell_type": "raw",
   "metadata": {},
   "source": [
    "比如 \n",
    "1 yes\n",
    "1 yes\n",
    "1 yes\n",
    "1 no\n",
    "怎么添加标签呢\n",
    "classCount={'yes':3,'no':1}\n",
    "用频次来排序\n",
    "\n",
    "分类过程中不可能到最后分支之后所有的数据集都属于同一类，因为存在噪声数据，所以我们是找到分类结束时某个类别最多的类别作为该分支的叶节点的取值，上述代码就是找到数量最多的那一类作为叶节点的取值，其中用到了operator中的items函数，3.x以上的版本不再有iteritems而是items，而《机器学习实战》代码时基于2.x的版本的代码，所以经常会报错，建议大家写代码时边写边思考，从而找到一些不一样的东西，\n",
    "回到正题，items() 方法是把dict对象转换成了包含tuple的list，栗子："
   ]
  },
  {
   "cell_type": "code",
   "execution_count": 19,
   "metadata": {
    "ExecuteTime": {
     "end_time": "2018-07-25T08:20:36.504305Z",
     "start_time": "2018-07-25T08:20:36.493840Z"
    }
   },
   "outputs": [
    {
     "name": "stdout",
     "output_type": "stream",
     "text": [
      "d: {'Adam': 95, 'Lisa': 85, 'Bart': 59} \n",
      " c: dict_items([('Adam', 95), ('Lisa', 85), ('Bart', 59)])\n"
     ]
    }
   ],
   "source": [
    "d = { 'Adam': 95, 'Lisa': 85, 'Bart': 59 }\n",
    "c = d.items()\n",
    "print('d:', d,'\\n',\n",
    "    'c:',c)"
   ]
  },
  {
   "cell_type": "markdown",
   "metadata": {
    "ExecuteTime": {
     "end_time": "2018-07-18T02:57:42.048050Z",
     "start_time": "2018-07-18T02:57:42.029081Z"
    }
   },
   "source": [
    "### 6.创建决策树"
   ]
  },
  {
   "cell_type": "raw",
   "metadata": {},
   "source": [
    "构建决策树用到的最基本的思想是递归，而递归结束的条件有两个：\n",
    "（1）在该分支下所有的类标签都相同，即在该支叶节点下所有的样本都属于同一类；\n",
    "（2）使用了所有的特征，但是样本数据还是存在一定的分歧，这个时候就要使用上诉的majoritycnt(classlist)函数了。\n",
    "\n",
    "在树的构建过程中，是每一次利用choosebestfeaturetosplit(dataset)函数找到在剩下的数据集中信息增益最大的特征作为分类的依据\n",
    "然后每次生成的tree是 mytree={bestfeatlabel:{}}这样的形式，保证了每次递归都在字典中存在子字典，从而最后完成决策树的构建。\n",
    "同时在构建过程中使用过的标签需要进行删除，从而不影响下一次特征的选取，同样也用到了set（）函数。"
   ]
  },
  {
   "cell_type": "code",
   "execution_count": 12,
   "metadata": {
    "ExecuteTime": {
     "end_time": "2018-07-25T11:25:29.306130Z",
     "start_time": "2018-07-25T11:25:29.278305Z"
    },
    "collapsed": true
   },
   "outputs": [],
   "source": [
    "#创建决策树\n",
    "def createTree(dataSet, labels):\n",
    "    classList = [example[-1] for example in dataSet]#提取dataset中的最后一栏——种类标签 \n",
    "    if classList.count(classList[0]) == len(classList):\n",
    "        #计算classlist[0]出现的次数,如果等于classList，说明都是属于一类，不用继续往下划分\n",
    "        #按照classList[0]的类值，对classList进行统计，是否所有类标签的值完全相同，则直接返回该类标签\n",
    "        return classList[0]\n",
    "    if len(dataSet[0]) == 1:#看还剩下多少个属性，如果只有一个属性，但是类别标签又多个，\n",
    "        #就直接用majoritycnt方法进行整理  选取类别最多的作为返回值\n",
    "        return majorityCnt(classList)\n",
    "    bestFeat = chooseBestFeatureToSplit(dataSet) #选取信息增益最大的特征作为下一次分类的依据\n",
    "    bestFeatLabel = labels[bestFeat] #选取特征对应的标签 \n",
    "    myTree = {bestFeatLabel:{}} #创建tree字典，紧跟现阶段最优特征，下一个特征位于第二个大括号内，循环递归\n",
    "    del(labels[bestFeat]) #使用过的特征从中删除\n",
    "    featValues = [example[bestFeat] for example in dataSet]#特征值对应的该栏数据\n",
    "    # 抽取最优特征下的数值，重新组合成list\n",
    "    #print('featValues:',featValues)->featValues: [1, 1, 1, 0, 0]\n",
    "    uniqueVals = set(featValues)#找到featvalues所包含的所有元素，同名元素算一个\n",
    "    for value in uniqueVals:#遍历当前选择特征包含的所有属性值，每个数据集划分上递归调用函数createTree\n",
    "        subLabels = labels[:]#复制了类标签，并将其存储在新列表变量subLabels中\n",
    "        # 子标签的意思是循环一次之后会从中删除用过的标签 ，剩下的就是子标签了\n",
    "        myTree[bestFeatLabel][value] = createTree(splitDataSet(dataSet, bestFeat, value), subLabels)#循环递归生成树\n",
    "        #print('myTree:',myTree)\n",
    "    return myTree"
   ]
  },
  {
   "cell_type": "code",
   "execution_count": 21,
   "metadata": {
    "ExecuteTime": {
     "end_time": "2018-07-25T08:20:52.053905Z",
     "start_time": "2018-07-25T08:20:52.045714Z"
    }
   },
   "outputs": [
    {
     "name": "stdout",
     "output_type": "stream",
     "text": [
      "mytree: {'no surfing ': {0: 'no', 1: {'flippers': {0: 'no', 1: 'yes'}}}}\n"
     ]
    }
   ],
   "source": [
    "myDat, labels = createDataSet()\n",
    "mytree = createTree(myDat, labels)\n",
    "print('mytree:', mytree)"
   ]
  },
  {
   "cell_type": "markdown",
   "metadata": {},
   "source": [
    "### 7.使用matplotlib对生成的树进行注释"
   ]
  },
  {
   "cell_type": "markdown",
   "metadata": {},
   "source": [
    "此过程中主要用到的是matplotlib中的annotate包，具体有很多方法和函数，我也只是过了一下书上的东西，有兴趣继续深入的可以参考：https://www.jianshu.com/p/1411c51194de\n",
    "http://blog.csdn.net/u013457382/article/details/50956459\n",
    "在此罗列一部分方法\n",
    "\n",
    "1.# 添加注释  \n",
    "2.# 第一个参数是注释的内容  \n",
    "3.# xy设置箭头尖的坐标  \n",
    "4.# xytext设置注释内容显示的起始位置  \n",
    "5.# arrowprops 用来设置箭头  \n",
    "6.# facecolor 设置箭头的颜色  \n",
    "7.# headlength 箭头的头的长度  \n",
    "8.# headwidth 箭头的宽度  \n",
    "9.# width 箭身的宽度  \n",
    "10.#plt.annotate(u\"This is a zhushi\", xy = (0, 1), xytext = (-4, 50),\\  \n",
    "11.# arrowprops = dict(facecolor = \"r\", headlength = 10, headwidth = 30, width = 20))  \n",
    "12.# 可以通过设置xy和xytext中坐标的值来设置箭身是否倾斜 \n"
   ]
  },
  {
   "cell_type": "code",
   "execution_count": 17,
   "metadata": {
    "ExecuteTime": {
     "end_time": "2018-07-25T11:28:53.183039Z",
     "start_time": "2018-07-25T11:28:52.484894Z"
    },
    "collapsed": true
   },
   "outputs": [],
   "source": [
    "import matplotlib.pyplot as plt\n",
    "from pylab import mpl\n",
    "\n",
    "mpl.rcParams['font.sans-serif'] = ['FangSong'] # 指定默认字体\n",
    "mpl.rcParams['axes.unicode_minus'] = False # 解决保存图像是负号'-'显示为方块的问题\n",
    "#使用文本注解绘制树节点\n",
    "#包含来边框的类型，边框线的粗细等\n",
    "decisionNode = dict(boxstyle = \"sawtooth\", fc = '0.8', pad = 1)\n",
    "# boxstyle为文本框的类型，sawtooth是锯齿形，fc是边框线粗细  ,pad指的是外边框锯齿形（圆形等）的大小\n",
    "leafNode = dict(boxstyle = \"round4\", fc =\"0.8\", pad = 1)# 定义决策树的叶子结点的描述属性 round4表示圆形\n",
    "arrow_args = dict(arrowstyle='<-')#定义箭头属性\n",
    "\n",
    "def plotNode(nodeTxt, centerPt, parentPt, nodeType):\n",
    "    #annotate是关于一个数据点的文本 \n",
    "    #nodeTxt为要显示的文本，centerPt为文本的中心点，箭头所在的点，parentPt为指向文本的点  \n",
    "    #annotate的作用是添加注释，nodetxt是注释的内容，\n",
    "    #nodetype指的是输入的节点（边框）的形状\n",
    "    createPlot.ax1.annotate(nodeTxt,xy=parentPt,xycoords='axes fraction',\\\n",
    "                           xytext=centerPt, textcoords='axes fraction',\\\n",
    "                           va =\"center\", ha=\"center\", bbox=nodeType, arrowprops=arrow_args)\n",
    "    \n",
    "def createPlot():\n",
    "    fig = plt.figure(1, facecolor = 'white')\n",
    "    fig.clf()\n",
    "    createPlot.ax1 = plt.subplot(111, frameon = False)\n",
    "    plotNode(U'决策节点', (0.5, 0.1), (0.1, 0.5), decisionNode)\n",
    "    plotNode(U'叶节点', (0.8, 0.1), (0.3, 0.8), leafNode)\n",
    "    plt.show()\n",
    "    \n"
   ]
  },
  {
   "cell_type": "code",
   "execution_count": 18,
   "metadata": {
    "ExecuteTime": {
     "end_time": "2018-07-25T11:28:54.502017Z",
     "start_time": "2018-07-25T11:28:54.079013Z"
    }
   },
   "outputs": [
    {
     "data": {
      "image/png": "[encoded data removed]",
      "text/plain": [
       "<matplotlib.figure.Figure at 0x103a57400>"
      ]
     },
     "metadata": {},
     "output_type": "display_data"
    }
   ],
   "source": [
    "createPlot()"
   ]
  },
  {
   "cell_type": "markdown",
   "metadata": {},
   "source": [
    "### 8.计算树的叶节点数目和树的层数"
   ]
  },
  {
   "cell_type": "raw",
   "metadata": {},
   "source": [
    "getnumleafs（）函数和gettreedepth（）函数在结构和方法上都比较类似，\n",
    "因为tree字典中的每一个大括号的第一个字符都是它对应的键值，所以我们只需要判断第二个还是不是键值，如果是的话说明还有树或者深度，都是用了递归的思想，在每次循环中都先找到该字典中的第一个字符，然后判断在该键值下的第二个字符是不是还是键，是的话说明还有深度或者层数，不是的话说明已经找完了。其中遇到了这样的问题：\n",
    "（1）一开始写这句的时候if type(seconddict[key]).__name__=='dict':书上的是.-name-（单个下划线），但是实际上是双下划线，再者当不加.__name__得时候type函数获得的是字典得类型，而不是本身就是字典，所以要加上name表示这个名字叫做“dict”。\n",
    "（2）2.x的版本中是firststr=mytree.keys()[],但是dict_keys型的数据不支持索引，所以强制转换成list即可，即 firststr=list(mytree.keys())[0]。"
   ]
  },
  {
   "cell_type": "code",
   "execution_count": 19,
   "metadata": {
    "ExecuteTime": {
     "end_time": "2018-07-25T11:28:56.774779Z",
     "start_time": "2018-07-25T11:28:56.749315Z"
    },
    "collapsed": true
   },
   "outputs": [],
   "source": [
    "#获取叶节点的数目和树的层数\n",
    "def getNumLeafs(myTree):#计算叶子节点的个数（不包括中间的分支节点）  \n",
    "    numLeafs = 0\n",
    "    firstStr = list(myTree.keys())[0]# 获得myTree的第一个键值，即第一个特征，分割的标签   \n",
    "    #遇到的问题是mytree.keys()获得的类型是dict_keys，而dict_keys不支持索引，我的解决办法是把获得的dict_keys强制转化为list即可  \n",
    "    secondDict = myTree[firstStr]# 根据键值得到对应的值，即根据第一个特征分类的结果   \n",
    "    for key in secondDict.keys(): #获取第二个小字典中的key  \n",
    "        if type(secondDict[key]).__name__=='dict':\n",
    "            #判断是否小字典中是否还包含新的字典（即新的分支）   \n",
    "            #书上写的是.-name-但是3.0以后得版本都应该写成.__name__(两个下划线) 重点！！！ \n",
    "            numLeafs += getNumLeafs(secondDict[key])\n",
    "            #包含的话进行递归从而继续循环获得新的分支所包含的叶节点的数量  \n",
    "        else:  numLeafs += 1#不包含的话就停止迭代并把现在的小字典加一表示这边有一个分支  \n",
    "    return numLeafs\n",
    "\n",
    "def getTreeDepth(myTree):##计算判断节点的个数  \n",
    "    maxDepth = 0\n",
    "    firstStr = list(myTree.keys())[0]\n",
    "    secondDict = myTree[firstStr]\n",
    "    for key in secondDict.keys():\n",
    "        if type(secondDict[key]).__name__=='dict':\n",
    "            thisDepth = 1+ getTreeDepth(secondDict[key])\n",
    "        else: thisDepth = 1\n",
    "        if thisDepth > maxDepth:\n",
    "            maxDepth = thisDepth #间隔 间隔间隔得问题一定要多考虑啊啊啊啊啊啊  \n",
    "    return maxDepth\n"
   ]
  },
  {
   "cell_type": "markdown",
   "metadata": {},
   "source": [
    "### 9.成决策树图形"
   ]
  },
  {
   "cell_type": "raw",
   "metadata": {},
   "source": [
    "xOff\n",
    "\n",
    "xOff和yOff用来记录当前要画的叶子结点的位置。\n",
    "画布的范围x轴和y轴都是0到1，我们希望所有的叶子结点平均分布在x轴上。totalW记录叶子结点的个数，那么 1/totalW 正好是每个叶子结点的宽度\n",
    "如果叶子结点的坐标是 1/totalW , 2/totalW, 3/totalW, …, 1 的话，就正好在宽度的最右边，为了让坐标在宽度的中间，需要减去0.5 / totalW 。所以createPlot函数中，初始化 plotTree.xOff 的值为-0.5/plotTree.totalW。这样每次 xOff + 1/totalW ，正好是下1个结点的准确位置\n",
    "yOff\n",
    "yOff的初始值为1，每向下递归一次，这个值减去 1 / totalD\n",
    "cntrPt\n",
    "cntrPt用来记录当前要画的树的树根的结点位置\n",
    "在plotTree函数中，它是这样计算的\n",
    "cntrPt = (plotTree.xOff + (1.0 + float(numLeafs))/2.0/plotTree.totalW, plotTree.yOff)\n",
    "numLeafs记录当前的树中叶子结点个数。我们希望树根在这些所有叶子节点的中间。\n",
    "plotTree.xOff + (1.0 + float(numLeafs))/2.0/plotTree.totalW\n",
    "这里的 1.0 + numLeafs 需要拆开来理解，也就是\n",
    "plotTree.xOff +  float(numLeafs)/2.0/plotTree.totalW +1.0/2.0/plotTree.totalW\n",
    "plotTree.xOff +  1/2 * float(numLeafs)/plotTree.totalW + 0.5/plotTree.totalW\n",
    "因为xOff的初始值是-0.5/plotTree.totalW ，是往左偏了0.5/plotTree.tatalW 的，这里正好加回去。这样cntrPt记录的x坐标正好是所有叶子结点的中心点\n",
    "#plottree.totalw和plottree.totald是全局变量  \n",
    "'''    "
   ]
  },
  {
   "cell_type": "code",
   "execution_count": 13,
   "metadata": {
    "ExecuteTime": {
     "end_time": "2018-07-25T11:25:41.083213Z",
     "start_time": "2018-07-25T11:25:41.075279Z"
    },
    "collapsed": true
   },
   "outputs": [],
   "source": [
    "#函数retrieveTree输出预先存储的树信息\n",
    "#避免每次测试代码时都要从数据中创建树的麻烦\n",
    "def retrieveTree(i):\n",
    "    listOfTrees = [{'no surfacing':{0:'no',1:{'flippers':\\\n",
    "                                              {0:'no',1:'yes'}}}},\n",
    "                   {'no surfacing':{0:'no',1:{'flippers':\\\n",
    "                    {0:{'head':{0:'no',1:'yes'}},1:'no'}}}}\n",
    "                   ]\n",
    "    return listOfTrees[i]"
   ]
  },
  {
   "cell_type": "code",
   "execution_count": 20,
   "metadata": {
    "ExecuteTime": {
     "end_time": "2018-07-25T11:29:03.331882Z",
     "start_time": "2018-07-25T11:29:03.014915Z"
    }
   },
   "outputs": [
    {
     "name": "stdout",
     "output_type": "stream",
     "text": [
      "muytree: {'no surfacing': {0: 'no', 1: {'flippers': {0: 'no', 1: 'yes'}}}}\n"
     ]
    },
    {
     "data": {
      "image/png": "[encoded data removed]",
      "text/plain": [
       "<matplotlib.figure.Figure at 0x10dcc1940>"
      ]
     },
     "metadata": {},
     "output_type": "display_data"
    }
   ],
   "source": [
    "def plotMidText(cntrPt, parentPt, txtString):\n",
    "    xMid = (parentPt[0]-cntrPt[0])/2.0 + cntrPt[0]\n",
    "    yMid = (parentPt[1]-cntrPt[1])/2.0 + cntrPt[1]\n",
    "    createPlot.ax1.text(xMid, yMid, txtString, va=\"center\", ha=\"center\", rotation=30)\n",
    "\n",
    "def plotTree(myTree, parentPt, nodeTxt):#if the first key tells you what feat was split on\n",
    "    numLeafs = getNumLeafs(myTree)  #this determines the x width of this tree\n",
    "    depth = getTreeDepth(myTree)\n",
    "    firstStr = list(myTree.keys())[0]     #the text label for this node should be this\n",
    "    cntrPt = (plotTree.xOff + (1.0 + float(numLeafs))/2.0/plotTree.totalW, plotTree.yOff)\n",
    "    plotMidText(cntrPt, parentPt, nodeTxt)\n",
    "    plotNode(firstStr, cntrPt, parentPt, decisionNode)\n",
    "    secondDict = myTree[firstStr]\n",
    "    plotTree.yOff = plotTree.yOff - 1.0/plotTree.totalD\n",
    "    for key in secondDict.keys():\n",
    "        if type(secondDict[key]).__name__=='dict':#test to see if the nodes are dictonaires, if not they are leaf nodes   \n",
    "            plotTree(secondDict[key],cntrPt,str(key))        #recursion\n",
    "        else:   #it's a leaf node print the leaf node\n",
    "            plotTree.xOff = plotTree.xOff + 1.0/plotTree.totalW\n",
    "            plotNode(secondDict[key], (plotTree.xOff, plotTree.yOff), cntrPt, leafNode)\n",
    "            plotMidText((plotTree.xOff, plotTree.yOff), cntrPt, str(key))\n",
    "    plotTree.yOff = plotTree.yOff + 1.0/plotTree.totalD\n",
    "#if you do get a dictonary you know it's a tree, and the first element will be another dict\n",
    "\n",
    "def createPlot(inTree):\n",
    "    fig = plt.figure(1, facecolor='white')\n",
    "    fig.clf()\n",
    "    axprops = dict(xticks=[], yticks=[])\n",
    "    createPlot.ax1 = plt.subplot(111, frameon=False, **axprops)    #no ticks\n",
    "    #createPlot.ax1 = plt.subplot(111, frameon=False) #ticks for demo puropses \n",
    "    plotTree.totalW = float(getNumLeafs(inTree))\n",
    "    plotTree.totalD = float(getTreeDepth(inTree))\n",
    "    plotTree.xOff = -0.5/plotTree.totalW; plotTree.yOff = 1.0;\n",
    "    plotTree(inTree, (0.5,1.0), '')\n",
    "    plt.show()\n",
    "\n",
    "#def createPlot():\n",
    "#    fig = plt.figure(1, facecolor='white')\n",
    "#    fig.clf()\n",
    "#    createPlot.ax1 = plt.subplot(111, frameon=False) #ticks for demo puropses \n",
    "#    plotNode('a decision node', (0.5, 0.1), (0.1, 0.5), decisionNode)\n",
    "#    plotNode('a leaf node', (0.8, 0.1), (0.3, 0.8), leafNode)\n",
    "#    plt.show()\n",
    "\n",
    "mytree = retrieveTree(0)\n",
    "print('muytree:',mytree)\n",
    "#getNumLeafs(mytree)\n",
    "createPlot(mytree)\n"
   ]
  },
  {
   "cell_type": "markdown",
   "metadata": {},
   "source": [
    "### 7.决策树的分类函数"
   ]
  },
  {
   "cell_type": "raw",
   "metadata": {},
   "source": [
    "依靠训练数据构造了决策树之后，可以将它用于实际数据的分类\n",
    "在执行数据分类时，需要决策树及用于构造树的标签向量\n",
    "程序比较测试数据与决策树上的数值，递归执行该过程直到进入叶子结点\n",
    "将测试数据定义为叶子节点所属的类型"
   ]
  },
  {
   "cell_type": "code",
   "execution_count": 14,
   "metadata": {
    "ExecuteTime": {
     "end_time": "2018-07-25T11:25:44.469384Z",
     "start_time": "2018-07-25T11:25:44.441500Z"
    }
   },
   "outputs": [
    {
     "name": "stdout",
     "output_type": "stream",
     "text": [
      "yes\n"
     ]
    }
   ],
   "source": [
    "#函数retrieveTree输出预先存储的树信息\n",
    "#避免每次测试代码时都要从数据中创建树的麻烦\n",
    "\n",
    "def classify(inputTree, featLabels, testVec):\n",
    "    classLabel = ''\n",
    "    firstStr = list(inputTree.keys())[0] # 找到输入树当中键值[0]位置的值给firstStr#print('firstStr:', firstStr)\n",
    "    secondDict = inputTree[firstStr]\n",
    "    featIndex = featLabels.index(firstStr)\n",
    "    for key in secondDict.keys():\n",
    "        if testVec[featIndex] == key:\n",
    "            if type(secondDict[key]).__name__ == 'dict':\n",
    "                classLabel = classify(secondDict[key], featLabels, testVec)\n",
    "            else:\n",
    "                classLabel =secondDict[key]\n",
    "    \n",
    "    return classLabel\n",
    "\n",
    "#mydata, labels = createDataset()\n",
    "#mytree = createTree(mydata, labels)\n",
    "#print(classify(mytree, labels, [1, 1]))\n",
    "# 程序报错ValueError: 'no surfacing' is not in list\n",
    "# 因为createTree()函数中删除了最佳划分特征的标签 del(labels[bestFeat])\n",
    " \n",
    "mydata, labels = createDataSet()\n",
    "mytree = createTree(mydata, labels)\n",
    "mydata, labels = createDataSet()\n",
    "print(classify(mytree, labels, [1, 1]))"
   ]
  },
  {
   "cell_type": "code",
   "execution_count": 16,
   "metadata": {
    "ExecuteTime": {
     "end_time": "2018-07-25T11:26:18.639900Z",
     "start_time": "2018-07-25T11:26:18.608411Z"
    }
   },
   "outputs": [
    {
     "name": "stdout",
     "output_type": "stream",
     "text": [
      "[1,0] is : no\n",
      "[1,1] is: yes\n"
     ]
    },
    {
     "data": {
      "text/plain": [
       "\"\\nValueError: 'no surfacing' is not in list\\n主要原因是我先运行 mytree=createtree(data1,labels1)函数，\\n而createtree函数在运行过程中回删除标签中已经用过的值，所以导致之后labels不完整，解决方法是再新建一个即可。\\n\""
      ]
     },
     "execution_count": 16,
     "metadata": {},
     "output_type": "execute_result"
    }
   ],
   "source": [
    "classlabel_1 = classify(mytree, labels, [1, 0])\n",
    "print ('[1,0] is :', classlabel_1)\n",
    "classlabel_2 = classify(mytree, labels, [1, 1])\n",
    "print ('[1,1] is:', classlabel_2)\n",
    "\n",
    "\"\"\"\n",
    "ValueError: 'no surfacing' is not in list\n",
    "主要原因是我先运行 mytree=createtree(data1,labels1)函数，\n",
    "而createtree函数在运行过程中回删除标签中已经用过的值，所以导致之后labels不完整，解决方法是再新建一个即可。\n",
    "\"\"\""
   ]
  },
  {
   "cell_type": "raw",
   "metadata": {
    "ExecuteTime": {
     "end_time": "2018-07-25T08:33:12.078651Z",
     "start_time": "2018-07-25T08:33:12.056829Z"
    }
   },
   "source": [
    "myDat,labels = createDataSet()\n",
    "print(labels)\n",
    "\n",
    "myTree = retrieveTree(0)\n",
    "print('myTree:', myTree)\n",
    "\n",
    "classlabel_1 = classify(myTree, labels, [1, 0])\n",
    "print ('[1,0] is :', classlabel_1)\n",
    "classlabel_2 = classify(myTree, labels, [1, 1])\n",
    "print ('[1,1] is:', classlabel_2)"
   ]
  },
  {
   "cell_type": "markdown",
   "metadata": {},
   "source": [
    "### 8.树的存储和读取"
   ]
  },
  {
   "cell_type": "raw",
   "metadata": {},
   "source": [
    "存储与读取决策树主要是用到了pickle模块，具体我也没有细细的去深究pickle模块，具体可以参考http://www.php.cn/python-tutorials-372984.html。\n",
    "\n",
    "运行过程中报错如下：\n",
    "\n",
    "fr=open(filename)\n",
    "return pickle.load(fr)\n",
    "但是报错UnicodeDecodeError: 'gbk' codec can't decode byte 0x80 in position 0: illegal multibyte sequence\n",
    "这是因为早期的pickle代码是二进制的pickle（除了最早的版本外）是二进制格式的，所以你应该带 'rb' 标志打开文件。\n",
    "改成\n",
    "def grabtree(filename):\n",
    "import pickle\n",
    "fr=open(filename,'rb')\n",
    "return pickle.load(fr)即可"
   ]
  },
  {
   "cell_type": "code",
   "execution_count": 21,
   "metadata": {
    "ExecuteTime": {
     "end_time": "2018-07-25T11:29:14.322701Z",
     "start_time": "2018-07-25T11:29:14.309372Z"
    }
   },
   "outputs": [
    {
     "data": {
      "text/plain": [
       "\"\\n错误原因：pickle模块存储的是二进制字节码，需要以二进制的方式进行读写\\n1. 报错一：TypeError: write() argument must be str, not bytes\\n2. 报错二：UnicodeDecodeError: 'utf-8' codec can't decode byte 0x80 in position 0: invalid start byte\\n\\nhttp://www.cnblogs.com/huiAlex/p/8855810.html\\n\""
      ]
     },
     "execution_count": 21,
     "metadata": {},
     "output_type": "execute_result"
    }
   ],
   "source": [
    "#生成决策树的存储\n",
    "def storeTree(inputTree, filename):\n",
    "    import pickle\n",
    "    fw = open(filename, 'wb')\n",
    "    pickle.dump(inputTree, fw)\n",
    "    fw.close()\n",
    "\n",
    "def grabTree(filename):\n",
    "    import pickle\n",
    "    fr = open(filename, 'rb')\n",
    "    return pickle.load(fr)\n",
    "\"\"\"\n",
    "错误原因：pickle模块存储的是二进制字节码，需要以二进制的方式进行读写\n",
    "1. 报错一：TypeError: write() argument must be str, not bytes\n",
    "2. 报错二：UnicodeDecodeError: 'utf-8' codec can't decode byte 0x80 in position 0: invalid start byte\n",
    "\n",
    "http://www.cnblogs.com/huiAlex/p/8855810.html\n",
    "\"\"\""
   ]
  },
  {
   "cell_type": "code",
   "execution_count": 22,
   "metadata": {
    "ExecuteTime": {
     "end_time": "2018-07-25T11:29:17.865637Z",
     "start_time": "2018-07-25T11:29:17.856730Z"
    }
   },
   "outputs": [
    {
     "name": "stdout",
     "output_type": "stream",
     "text": [
      "{'no surfacing': {0: 'no', 1: {'flippers': {0: 'no', 1: 'yes'}}}}\n"
     ]
    }
   ],
   "source": [
    "storeTree(mytree, 'classifierstorage.txt')\n",
    "print(grabTree('classifierstorage.txt')) "
   ]
  },
  {
   "cell_type": "code",
   "execution_count": null,
   "metadata": {
    "collapsed": true
   },
   "outputs": [],
   "source": []
  }
 ],
 "metadata": {
  "kernelspec": {
   "display_name": "Python 3",
   "language": "python",
   "name": "python3"
  },
  "language_info": {
   "codemirror_mode": {
    "name": "ipython",
    "version": 3
   },
   "file_extension": ".py",
   "mimetype": "text/x-python",
   "name": "python",
   "nbconvert_exporter": "python",
   "pygments_lexer": "ipython3",
   "version": "3.6.2"
  }
 },
 "nbformat": 4,
 "nbformat_minor": 2
}
