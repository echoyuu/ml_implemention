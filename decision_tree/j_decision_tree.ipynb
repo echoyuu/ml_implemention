{
 "cells": [
  {
   "cell_type": "markdown",
   "metadata": {},
   "source": [
    "# 机器学习实战-决策树"
   ]
  },
  {
   "cell_type": "raw",
   "metadata": {},
   "source": [
    "定义：分类决策树模型是一种描述对实例进行分类的树形结构。决策树由节点（node）和有向边（directed edge）组成。节点有两种类型：内部结点和叶结点，内部结点表示一个特征或者属性，叶结点表示一个类。\n",
    "\n",
    "用决策树进行分类，从根结点开始，对实例的某一特征进行测试，根据测试结构，将实例分配到其子结点；这时，每一个子结点对用着特征的一个取值，如此递归的对实例进行测试并分配，直至到达叶结点。最后将实例分到叶结点的类中。\n",
    "\n",
    "分而治之 divide-and-conquer"
   ]
  },
  {
   "cell_type": "raw",
   "metadata": {},
   "source": [
    "决策树学习基本算法\n",
    "\n",
    "输入：训练集 D = {(x1,y1),(x2,y2)````(xm,ym)};\n",
    "     属性集 A = {a1, a2,`````,ad}.\n",
    "过程：函数TreeGenerate(D,A)\n",
    "1.生产节点node；\n",
    "2.if D中样本全属于同一类别C then\n",
    "3.   将node标记为C类叶节点；return\n",
    "4.end if\n",
    "5.if A=null OR D中样本在A上取值相同 then\n",
    "6.   将node标记为叶节点，其类别标记为D中样本数最多的类；then\n",
    "7.end if\n",
    "8.从A中选择最优划分属性a*；\n",
    "9.for a*的每一个值av* do\n",
    "10.   为node生成一个分之；令Dv表示D中在a*上取值为av*的样本子集\n",
    "11.   if Dv为空 then\n",
    "12.      将分支结点标记为叶结点，其类别标记为D中样本最多的类；return\n",
    "13.   else\n",
    "14.      以 TreeGenerate(Dv, A\\{a*})为分支结点\n",
    "15.   end if\n",
    "16.end if\n",
    "输出：以node为根结点的一棵决策树"
   ]
  },
  {
   "cell_type": "raw",
   "metadata": {},
   "source": [
    "叶节点的产生条件\n",
    "1.当前结点包含的样本全属于同一类别，无需划分\n",
    "2.当前属性集为空，或是所有样本在属性上取值相同，无法划分\n",
    "3.当前结点包含的样本集合为空，不能划分"
   ]
  },
  {
   "cell_type": "raw",
   "metadata": {},
   "source": [
    "ID3 算法原理和实现\n",
    "信息增益\n",
    "熵"
   ]
  },
  {
   "cell_type": "raw",
   "metadata": {},
   "source": [
    "决策树的一般流程： \n",
    "(1)收集数据：可以使用任何方法。 \n",
    "(2)准备数据：树构造算法只适用于标称型数据，因此数值型数据必须离散化。 \n",
    "(3)分析数据：可以使用任何方法，构造树完成之后，我们应该检查图形是否符合预期。 \n",
    "(4)训练算法：构造树的数据结构。 \n",
    "(5)测试算法：使用经验树计算错误率。 \n",
    "(6)使用算法：此步骤可以适用于任何监督学习算法，而使用决策树可以更好地理解数据 \n",
    "的内在含义。 \n",
    "目前常用的决策树算法有ID3算法、改进的C4.5算法和CART算法。"
   ]
  },
  {
   "cell_type": "markdown",
   "metadata": {},
   "source": [
    "# 1.首先创建一个数据集"
   ]
  },
  {
   "cell_type": "code",
   "execution_count": 1,
   "metadata": {
    "ExecuteTime": {
     "end_time": "2018-07-24T02:31:02.014158Z",
     "start_time": "2018-07-24T02:31:02.001517Z"
    },
    "collapsed": true
   },
   "outputs": [],
   "source": [
    "from math import log\n",
    "import operator\n",
    "#import treePlotter\n",
    "#创建数据集\n",
    "\n",
    "def createDataSet():\n",
    "    dataSet = [[1, 1, 'yes'],\n",
    "               [1, 1, 'yes'],\n",
    "               [1, 0, 'no'],\n",
    "               [0, 1, 'no'],\n",
    "               [0, 1, 'no']]\n",
    "    labels = ['no surfing ', 'flippers']\n",
    "    #change to discrete values\n",
    "    return dataSet, labels"
   ]
  },
  {
   "cell_type": "raw",
   "metadata": {},
   "source": [
    "\"\"\"\n",
    "【二】做数据集转换\n",
    "本文中我没有使用作者所提供的鱼的数据集，而是采用了UCI的机器学习数据集中的汽车评价数据集（http://archive.ics.uci.edu/ml/datasets/Car+Evaluation），里面有很多很好的数据集，建议做机器学习的同学多使用里面的数据。而UCI的数据集大部分都是txt格式的，所以写了段讲txt格式转换为矩阵的额外的代码。\n",
    "https://blog.csdn.net/cxjoker/article/details/79501887\n",
    "这段代码整体上比较简单，主要是用了readlines读取文本并且使用split对文本进行分割形成数据矩阵即可。\n",
    "\"\"\"\n",
    "def file2matrix(filename):\n",
    "    fr=open(filename)\n",
    "    lists=fr.readlines()\n",
    "    listnum=[]\n",
    "    for k in lists:\n",
    "        listnum.append(k.strip().split(','))  \n",
    "    return listnum\n"
   ]
  },
  {
   "cell_type": "raw",
   "metadata": {
    "ExecuteTime": {
     "end_time": "2018-07-23T00:35:09.088878Z",
     "start_time": "2018-07-23T00:35:09.077439Z"
    }
   },
   "source": [
    "d = {'a':3,'b':4}\n",
    "for v in d.values():\n",
    "    print(v)\n",
    "for k in d.keys():\n",
    "    print(k)\n",
    "for k, v in d.items():\n",
    "    print(k,v)"
   ]
  },
  {
   "cell_type": "markdown",
   "metadata": {},
   "source": [
    "# 2.计算香农熵"
   ]
  },
  {
   "cell_type": "markdown",
   "metadata": {},
   "source": [
    "这段代码主要是用于计算数据的每个特征信息熵，信息熵用于描述数据的混乱程度，信息熵越大说明数据包含的信息越多，也就是数据的波动越大。\n",
    "\n",
    "而ID3算法采用的是信息增益作为计算指标来评价每个特征所包含的信息的多少，而信息增益方法对可取数值较多的特征有所偏好，即本身可取数值较多的特征本身就包含更多的信息，为了减少这种偏好，又有C4.5和CART树，C4.5用信息增益率来衡量数据特征，从而摒除了这种偏好；CART树使用了“基尼指数”来衡量特征，基尼指数越小说明他的数据纯度就越高，选取特征时选取划分后使基尼指数最小的特征作为划分标准，即选取特征后使数据集变得更加纯，从而减少了数据集本身的混乱程度，本身决策树做的事情就是这个。"
   ]
  },
  {
   "cell_type": "code",
   "execution_count": 2,
   "metadata": {
    "ExecuteTime": {
     "end_time": "2018-07-24T02:31:05.729212Z",
     "start_time": "2018-07-24T02:31:05.716229Z"
    },
    "collapsed": true
   },
   "outputs": [],
   "source": [
    "#这段代码主要用于计算数据的每个特征信息熵，信息熵用于描述数据的混乱程度，信息熵越大说明数据包含的信息越多，也就是数据的波动越大\n",
    "from math import log\n",
    "def calcShannonEnt(dataSet):\n",
    "    numEntries = len(dataSet)\n",
    "    labelCounts = {}\n",
    "    for fectVec in dataSet:\n",
    "        currentLabel = fectVec[-1]\n",
    "        if currentLabel not in labelCounts.keys():\n",
    "            labelCounts[currentLabel] = 0\n",
    "        labelCounts[currentLabel] += 1\n",
    "    shannonEnt = 0.0\n",
    "    for value in labelCounts.values():\n",
    "        prob = float(value )/ numEntries\n",
    "        shannonEnt -= prob*log(prob, 2)\n",
    "    return shannonEnt  "
   ]
  },
  {
   "cell_type": "raw",
   "metadata": {
    "ExecuteTime": {
     "end_time": "2018-07-21T08:15:46.260712Z",
     "start_time": "2018-07-21T08:15:46.248140Z"
    },
    "collapsed": true
   },
   "source": [
    "def calcShannonEnt(dataSet):\n",
    "    numEntries = len(dataSet)\n",
    "    labelCounts = {}\n",
    "    for featVec in dataSet:\n",
    "        currentLabel = featVec[-1]\n",
    "        if currentLabel not in labelCounts.keys():\n",
    "            labelCounts[currentLabel] = 0\n",
    "        labelCounts[currentLabel] += 1\n",
    "    shannonEnt = 0.0\n",
    "    for value in labelCounts.values():\n",
    "        prob = float(value)/numEntries\n",
    "        shannonEnt -= prob*log(prob, 2)\n",
    "    return shannonEnt\n",
    "#calcShannonEnt"
   ]
  },
  {
   "cell_type": "code",
   "execution_count": 29,
   "metadata": {
    "ExecuteTime": {
     "end_time": "2018-07-22T23:54:55.320394Z",
     "start_time": "2018-07-22T23:54:55.300861Z"
    }
   },
   "outputs": [
    {
     "data": {
      "text/plain": [
       "0.9709505944546686"
      ]
     },
     "execution_count": 29,
     "metadata": {},
     "output_type": "execute_result"
    }
   ],
   "source": [
    "myDat, labels =createDataSet()\n",
    "calcShannonEnt(myDat)"
   ]
  },
  {
   "cell_type": "code",
   "execution_count": 3,
   "metadata": {
    "ExecuteTime": {
     "end_time": "2018-07-23T00:42:00.354497Z",
     "start_time": "2018-07-23T00:42:00.338230Z"
    }
   },
   "outputs": [
    {
     "name": "stdout",
     "output_type": "stream",
     "text": [
      "[[1, 1, 'yes'], [1, 1, 'yes'], [1, 0, 'no'], [0, 1, 'no'], [0, 1, 'no']] \n",
      " ['no surfing ', 'flippers']\n"
     ]
    },
    {
     "data": {
      "text/plain": [
       "0.9709505944546686"
      ]
     },
     "execution_count": 3,
     "metadata": {},
     "output_type": "execute_result"
    }
   ],
   "source": [
    "myDat, labels = createDataSet()\n",
    "print(myDat,'\\n',labels)\n",
    "calcShannonEnt(myDat)"
   ]
  },
  {
   "cell_type": "raw",
   "metadata": {
    "ExecuteTime": {
     "end_time": "2018-07-21T08:15:30.861840Z",
     "start_time": "2018-07-21T08:15:30.842312Z"
    },
    "collapsed": true
   },
   "source": [
    "def calcShannonEnt(dataSet):   \n",
    "    numEntries = len(dataSet) #compute length of dataSet \n",
    "    labelCounts = {}\n",
    "    for featVec in dataSet:#迭代出每行数据\n",
    "        currentLabel = featVec[-1] # currentLabel赋值每行数据的类别标签，无法保存值\n",
    "        if currentLabel not in labelCounts.keys():\n",
    "            labelCounts[currentLabel] = 0 #若没有该键，则使用字典的自动添加进行添加值为0的项，取0是因为下一行代码 \n",
    "        labelCounts[currentLabel] += 1 #对currentlabel计数，每有一个key：currentlabel，就在对应的key的值上加一\n",
    "    shannonEnt = 0.0 \n",
    "    for key in labelCounts:\n",
    "        prob = float(labelCounts[key])/numEntries  \n",
    "        shannonEnt -= prob*log(prob, 2) # log base 2\n",
    "    return shannonEnt"
   ]
  },
  {
   "cell_type": "code",
   "execution_count": 20,
   "metadata": {
    "ExecuteTime": {
     "end_time": "2018-07-18T01:41:57.198759Z",
     "start_time": "2018-07-18T01:41:57.185385Z"
    }
   },
   "outputs": [
    {
     "name": "stdout",
     "output_type": "stream",
     "text": [
      "[[1, 1, 'yes'], [1, 1, 'yes'], [1, 0, 'no'], [0, 1, 'no'], [0, 1, 'no']] \n",
      " ['no surfing ', 'flippers']\n",
      "0.9709505944546686\n"
     ]
    },
    {
     "data": {
      "text/plain": [
       "\"\\nnumEntries 5\\ncurrentLabel yes\\nlabelCounts[currentLabel] 0\\nlabelCounts[currentLabel] 1\\nlabelCounts {'yes': 1}\\ncurrentLabel yes\\nlabelCounts[currentLabel] 2\\nlabelCounts {'yes': 2}\\ncurrentLabel no\\nlabelCounts[currentLabel] 0\\nlabelCounts[currentLabel] 1\\nlabelCounts {'yes': 2, 'no': 1}\\ncurrentLabel no\\nlabelCounts[currentLabel] 2\\nlabelCounts {'yes': 2, 'no': 2}\\ncurrentLabel no\\nlabelCounts[currentLabel] 3\\nlabelCounts {'yes': 2, 'no': 3}\\n0.9709505944546686\\n\""
      ]
     },
     "execution_count": 20,
     "metadata": {},
     "output_type": "execute_result"
    }
   ],
   "source": [
    "myDat, labels = createDataSet()\n",
    "print(myDat,'\\n',labels)\n",
    "\n",
    "calcShannonEnt(myDat)\n",
    "print(calcShannonEnt(myDat))\n",
    "'''\n",
    "numEntries 5\n",
    "currentLabel yes\n",
    "labelCounts[currentLabel] 0\n",
    "labelCounts[currentLabel] 1\n",
    "labelCounts {'yes': 1}\n",
    "currentLabel yes\n",
    "labelCounts[currentLabel] 2\n",
    "labelCounts {'yes': 2}\n",
    "currentLabel no\n",
    "labelCounts[currentLabel] 0\n",
    "labelCounts[currentLabel] 1\n",
    "labelCounts {'yes': 2, 'no': 1}\n",
    "currentLabel no\n",
    "labelCounts[currentLabel] 2\n",
    "labelCounts {'yes': 2, 'no': 2}\n",
    "currentLabel no\n",
    "labelCounts[currentLabel] 3\n",
    "labelCounts {'yes': 2, 'no': 3}\n",
    "0.9709505944546686\n",
    "'''"
   ]
  },
  {
   "cell_type": "code",
   "execution_count": 21,
   "metadata": {
    "ExecuteTime": {
     "end_time": "2018-07-18T01:43:22.568495Z",
     "start_time": "2018-07-18T01:43:22.559996Z"
    }
   },
   "outputs": [
    {
     "name": "stdout",
     "output_type": "stream",
     "text": [
      "[[1, 1, 'maybe'], [1, 1, 'yes'], [1, 0, 'no'], [0, 1, 'no'], [0, 1, 'no']] ['no surfing ', 'flippers']\n",
      "Ent changed: 1.3709505944546687\n"
     ]
    }
   ],
   "source": [
    "myDat[0][-1] ='maybe'\n",
    "print(myDat, labels)\n",
    "print('Ent changed:', calcShannonEnt(myDat))\n",
    "#可以看出，在myDat[0][-1]更改之后，熵变大了。"
   ]
  },
  {
   "cell_type": "raw",
   "metadata": {
    "ExecuteTime": {
     "end_time": "2018-07-23T00:52:31.570841Z",
     "start_time": "2018-07-23T00:52:31.562853Z"
    }
   },
   "source": [
    "def splitDataSet(dataSet, axis, value):\n",
    "    retDataSet = []\n",
    "    for fectVec in dataSet:\n",
    "        if fectVec[axis] == value:\n",
    "            reducedFectVec = fectVec[:axis]\n",
    "            reducedFectVec.extend(fectVec[axis+1:])\n",
    "        retDataSet.append(reducedFectVec)\n",
    "    return retDataSet"
   ]
  },
  {
   "cell_type": "raw",
   "metadata": {
    "ExecuteTime": {
     "end_time": "2018-07-23T00:52:32.404726Z",
     "start_time": "2018-07-23T00:52:32.398031Z"
    }
   },
   "source": [
    "myDat, label = createDataSet()\n",
    "splitDataSet(myDat, 1, 1)"
   ]
  },
  {
   "cell_type": "markdown",
   "metadata": {},
   "source": [
    "# 3.分离数据"
   ]
  },
  {
   "cell_type": "raw",
   "metadata": {},
   "source": [
    "度量数据集的无序程度，分类算法除了需要测量信息熵，还需要划分数据集，度量划分数据集的熵，以便判断当前是否正确地划分了数据集\n",
    "将对每个特征划分数据集结果计算一次信息熵，然后判断按照哪个数据集是最好的划分方式"
   ]
  },
  {
   "cell_type": "code",
   "execution_count": 3,
   "metadata": {
    "ExecuteTime": {
     "end_time": "2018-07-24T02:31:14.161239Z",
     "start_time": "2018-07-24T02:31:14.153134Z"
    },
    "collapsed": true
   },
   "outputs": [],
   "source": [
    "def splitDataSet(dataSet, axis, value):\n",
    "    retDataSet = []\n",
    "    for featVec in dataSet:\n",
    "        if featVec[axis] == value:\n",
    "            reducedFeatVec = featVec[:axis]\n",
    "            reducedFeatVec.extend(featVec[axis+1:])\n",
    "            retDataSet.append(reducedFeatVec)\n",
    "    return retDataSet"
   ]
  },
  {
   "cell_type": "code",
   "execution_count": 13,
   "metadata": {
    "ExecuteTime": {
     "end_time": "2018-07-23T00:53:53.179308Z",
     "start_time": "2018-07-23T00:53:53.168682Z"
    }
   },
   "outputs": [
    {
     "data": {
      "text/plain": [
       "[[1, 'yes'], [1, 'yes'], [0, 'no'], [0, 'no']]"
      ]
     },
     "execution_count": 13,
     "metadata": {},
     "output_type": "execute_result"
    }
   ],
   "source": [
    "myDat, label = createDataSet()\n",
    "splitDataSet(myDat, 1, 1)"
   ]
  },
  {
   "cell_type": "raw",
   "metadata": {
    "ExecuteTime": {
     "end_time": "2018-07-21T08:32:35.188786Z",
     "start_time": "2018-07-21T08:32:35.179740Z"
    },
    "code_folding": [],
    "collapsed": true
   },
   "source": [
    "# 分离数据\n",
    "def splitDataSet(dataSet, axis, value): \n",
    "    #待划分的数据集、划分数据集的特征、需要返回的特征的值\n",
    "    retDataSet = [] #创建新的list对象\n",
    "    for featVec in dataSet: \n",
    "        \"\"\"数据集这个列表中的各个元素也是列表，要遍历数据集中每个元素，\n",
    "        一旦发现符合要求的值，则将其添加到新创建的列表中\n",
    "        \"\"\"\n",
    "        if featVec[axis] == value: #判断axis列的值是否为value，程序将符合特征的数据抽取出来\n",
    "            reducedFeatVec = featVec[:axis] # [:axis]表示前axis列，即若axis为2，就是取featVec的前axis列  print('1reducedFeatVec', reducedFeatVec)\n",
    "            reducedFeatVec.extend(featVec[axis+1:]) # [axis+1:]表示从跳过axis+1行，取接下来的数据 print('2reducedFeatVec', reducedFeatVec)\n",
    "            retDataSet.append(reducedFeatVec) # 列表扩展 print('3retDataSet', retDataSet)\n",
    "    return retDataSet"
   ]
  },
  {
   "cell_type": "raw",
   "metadata": {
    "ExecuteTime": {
     "end_time": "2018-07-21T08:32:40.486579Z",
     "start_time": "2018-07-21T08:32:40.474198Z"
    }
   },
   "source": [
    "myDat, label = createDataSet()\n",
    "splitDataSet(myDat, 1, 1)"
   ]
  },
  {
   "cell_type": "code",
   "execution_count": 41,
   "metadata": {
    "ExecuteTime": {
     "end_time": "2018-07-18T02:16:22.831403Z",
     "start_time": "2018-07-18T02:16:22.802177Z"
    }
   },
   "outputs": [
    {
     "name": "stdout",
     "output_type": "stream",
     "text": [
      "1reducedFeatVec [1]\n",
      "2reducedFeatVec [1, 'yes']\n",
      "3retDataSet [[1, 'yes']]\n",
      "1reducedFeatVec [1]\n",
      "2reducedFeatVec [1, 'yes']\n",
      "3retDataSet [[1, 'yes'], [1, 'yes']]\n",
      "1reducedFeatVec [0]\n",
      "2reducedFeatVec [0, 'no']\n",
      "3retDataSet [[1, 'yes'], [1, 'yes'], [0, 'no']]\n",
      "1reducedFeatVec [0]\n",
      "2reducedFeatVec [0, 'no']\n",
      "3retDataSet [[1, 'yes'], [1, 'yes'], [0, 'no'], [0, 'no']]\n"
     ]
    },
    {
     "data": {
      "text/plain": [
       "[[1, 'yes'], [1, 'yes'], [0, 'no'], [0, 'no']]"
      ]
     },
     "execution_count": 41,
     "metadata": {},
     "output_type": "execute_result"
    }
   ],
   "source": [
    "myDat, label = createDataSet()\n",
    "splitDataSet(myDat, 1, 1)\n",
    "\"\"\"\n",
    "1reducedFeatVec [1]\n",
    "2reducedFeatVec [1, 'yes']\n",
    "3retDataSet [[1, 'yes']]\n",
    "1reducedFeatVec [1]\n",
    "2reducedFeatVec [1, 'yes']\n",
    "3retDataSet [[1, 'yes'], [1, 'yes']]\n",
    "1reducedFeatVec [0]\n",
    "2reducedFeatVec [0, 'no']\n",
    "3retDataSet [[1, 'yes'], [1, 'yes'], [0, 'no']]\n",
    "1reducedFeatVec [0]\n",
    "2reducedFeatVec [0, 'no']\n",
    "3retDataSet [[1, 'yes'], [1, 'yes'], [0, 'no'], [0, 'no']]\n",
    "以axis = 1为基准即第二列，删除了value ！= 1的数据，并重新组合。\n",
    "\"\"\""
   ]
  },
  {
   "cell_type": "raw",
   "metadata": {},
   "source": [
    "此段代码中用到了extend函数和append函数，都是做数据连接的，但是主要区别是append函数直接将连接的数据形成一个元素加入到列表中，而extend时将后段要加入的数据提取出其元素再加入到列表中去。举个栗子就是："
   ]
  },
  {
   "cell_type": "code",
   "execution_count": 123,
   "metadata": {
    "ExecuteTime": {
     "end_time": "2018-07-18T06:58:09.766719Z",
     "start_time": "2018-07-18T06:58:09.755186Z"
    }
   },
   "outputs": [
    {
     "name": "stdout",
     "output_type": "stream",
     "text": [
      "kk: ['1', '2', '3', ['4', '5', '6']]\n",
      "aa: ['1', '2', '3', '4', '5', '6']\n"
     ]
    }
   ],
   "source": [
    "kk=['1','2','3']\n",
    "bb=['4','5','6'] \n",
    "kk.append(bb)\n",
    "print('kk:',kk)\n",
    "\n",
    "aa=['1','2','3']\n",
    "bb=['4','5','6'] \n",
    "aa.extend(bb) \n",
    "print('aa:',aa)"
   ]
  },
  {
   "cell_type": "markdown",
   "metadata": {},
   "source": [
    "# 4.选择最优特征分离："
   ]
  },
  {
   "cell_type": "raw",
   "metadata": {},
   "source": [
    "选取特征的方法是计算每个特征的信息增益值，然后找到具有信息增益值最大的特征作为划分的依据进行数据集划分，"
   ]
  },
  {
   "cell_type": "markdown",
   "metadata": {},
   "source": [
    "一般Python for语句前不加语句，但我在机器学习实战中看到了这两条语句：\n",
    "\n",
    "featList = [example[i] for example in dataSet]\n",
    "\n",
    "classList = [example[-1] for example in dataSet]\n",
    "\n",
    "多方研究和询问，得到如下解释：\n",
    "\n",
    "语句featList = [example[i] for example in dataSet]作用为： \n",
    "将dataSet中的数据按行依次放入example中，然后取得example中的example[i]元素，放入列表featList中\n",
    "\n",
    "语句classList = [example[-1] for example in dataSet]作用为： \n",
    "将dataSet中的数据按行依次放入example中，然后取得example中的example[-1]元素，放入列表classList中\n",
    "\n",
    "总而言之，类似上述两种for循环形式可以很方便地用来创建列表，如下例："
   ]
  },
  {
   "cell_type": "code",
   "execution_count": 85,
   "metadata": {
    "ExecuteTime": {
     "end_time": "2018-07-21T12:19:26.097207Z",
     "start_time": "2018-07-21T12:19:26.090771Z"
    }
   },
   "outputs": [
    {
     "name": "stdout",
     "output_type": "stream",
     "text": [
      "[1, 1, 1, 0, 0]\n",
      "[1, 1, 0, 1, 1]\n"
     ]
    }
   ],
   "source": [
    "for i in range(2):\n",
    "    featList = [example[i] for example in myDat]\n",
    "    print(featList)"
   ]
  },
  {
   "cell_type": "code",
   "execution_count": 83,
   "metadata": {
    "ExecuteTime": {
     "end_time": "2018-07-21T12:18:07.732413Z",
     "start_time": "2018-07-21T12:18:07.724864Z"
    }
   },
   "outputs": [
    {
     "name": "stdout",
     "output_type": "stream",
     "text": [
      "[1, 1, 'yes']\n",
      "[1, 1, 'yes']\n"
     ]
    }
   ],
   "source": [
    "for i in range(2):\n",
    "    featList = [example for example in myDat[i]]\n",
    "    print(featList)"
   ]
  },
  {
   "cell_type": "raw",
   "metadata": {
    "ExecuteTime": {
     "end_time": "2018-07-24T02:31:20.637836Z",
     "start_time": "2018-07-24T02:31:20.618583Z"
    },
    "collapsed": true
   },
   "source": [
    "def chooseBestFeatureToSplit(dataSet):\n",
    "    numFeatures = len(dataSet[0]) - 1\n",
    "    baseEntropy = calcShannonEnt(dataSet)\n",
    "    bestInfoGain = 0.0\n",
    "    bestFeature = -1\n",
    "    for i in range(numFeatures):\n",
    "        featList = [example[i] for example in dataSet]\n",
    "        uniqueVals = set(featList)\n",
    "        newEntropy = 0.0\n",
    "        for value in uniqueVals:\n",
    "            subDataSet = splitDataSet(dataSet, i, value)\n",
    "            prob = len(subDataSet)/float(len(dataSet))\n",
    "            newEntropy += prob*calcShannonEnt(subDataSet)\n",
    "    infoGain = baseEntropy - newEntropy\n",
    "    if ( infoGain > bestInfoGain):\n",
    "        bestInfoGain = InfoGain\n",
    "        bestFeature = i\n",
    "    return bestFeature         "
   ]
  },
  {
   "cell_type": "code",
   "execution_count": null,
   "metadata": {
    "collapsed": true
   },
   "outputs": [],
   "source": []
  },
  {
   "cell_type": "code",
   "execution_count": 8,
   "metadata": {
    "ExecuteTime": {
     "end_time": "2018-07-24T02:33:27.640856Z",
     "start_time": "2018-07-24T02:33:27.606582Z"
    },
    "collapsed": true
   },
   "outputs": [],
   "source": [
    "# 选择最优特征进行分离\n",
    "def chooseBestFeatureToSplit(dataSet):#就算出信息增益之后选取信息增益值最高的特征作为下一次分类的标准\n",
    "    numFeatures = len(dataSet[0]) -1  # 计算特征数量，列表【0】表示列的数量，-1是减去最后的类别特征the last column is used for the labels，这是一个list，取行\n",
    "    baseEntropy = calcShannonEnt(dataSet) #计算数据集的信息熵\n",
    "    bestInfoGain = 0.0\n",
    "    bestFeature = -1\n",
    "    for i in range(numFeatures):\n",
    "    #计算每一特征对应的熵，然后：iterate over all the features\n",
    "        featList = [example[i] for example in dataSet]\n",
    "        #create a list of all the examples of this feature\n",
    "        #print('featList:', featList)\n",
    "        uniqueVals = set(featList)  # #确定某一特征下所有可能的取值 get a set of unique values\n",
    "        #print('uniqueVals:', uniqueVals)\n",
    "        newEntropy = 0.0\n",
    "        for value in uniqueVals:\n",
    "            subDataSet = splitDataSet(dataSet, i, value) #抽取在该特征的每个取值下其他特征的值组成新的子数据集\n",
    "            #print(' subDataSet:', subDataSet)\n",
    "            prob = len(subDataSet)/float(len(dataSet)) # 计算该特征下的每一个取值对应的概率（或者说所占的比重），子数据集在总的数据集中的比值\n",
    "            newEntropy += prob*calcShannonEnt(subDataSet)#计算该特征下每一个取值的子数据集的信息熵\n",
    "        infoGain = baseEntropy - newEntropy \n",
    "        #  print(\"第%d个特征是的取值是%s，对应的信息增益值是%f\"%((i+1),uniquevals,infogain))\n",
    "        if (infoGain > bestInfoGain):\n",
    "            bestInfoGain = infoGain\n",
    "            bestFeature = i\n",
    "    # print(\"第%d个特征的信息增益最大，所以选择它作为划分的依据，其特征的取值为%s,对应的信息增益值是%f\"%((i+1),uniquevals,infogain)\n",
    "    return bestFeature\n",
    "    # 选出最优的特征，并返回特征角标 returns an integer"
   ]
  },
  {
   "cell_type": "code",
   "execution_count": 77,
   "metadata": {
    "ExecuteTime": {
     "end_time": "2018-07-21T12:11:49.521864Z",
     "start_time": "2018-07-21T12:11:49.515474Z"
    }
   },
   "outputs": [
    {
     "name": "stdout",
     "output_type": "stream",
     "text": [
      "the best feature is: 1\n"
     ]
    }
   ],
   "source": [
    "myDat, label = createDataSet()\n",
    "print ('the best feature is:', chooseBestFeatureToSplit(myDat))"
   ]
  },
  {
   "cell_type": "code",
   "execution_count": 57,
   "metadata": {
    "ExecuteTime": {
     "end_time": "2018-07-18T02:45:51.853357Z",
     "start_time": "2018-07-18T02:45:51.829567Z"
    }
   },
   "outputs": [
    {
     "name": "stdout",
     "output_type": "stream",
     "text": [
      "featList: [1, 1, 1, 0, 0]\n",
      "uniqueVals: {0, 1}\n",
      " subDataSet: [[1, 'no'], [1, 'no']]\n",
      "newEntropy: 0.0\n",
      " subDataSet: [[1, 'yes'], [1, 'yes'], [0, 'no']]\n",
      "newEntropy: 0.5509775004326937\n",
      "infoGain: 0.4199730940219749\n",
      "featList: [1, 1, 0, 1, 1]\n",
      "uniqueVals: {0, 1}\n",
      " subDataSet: [[1, 'no']]\n",
      "newEntropy: 0.0\n",
      " subDataSet: [[1, 'yes'], [1, 'yes'], [0, 'no'], [0, 'no']]\n",
      "newEntropy: 0.8\n",
      "infoGain: 0.17095059445466854\n",
      "the best feature is: 0\n"
     ]
    }
   ],
   "source": [
    "print ('the best feature is:', chooseBestFeatureToSplit(myDat))"
   ]
  },
  {
   "cell_type": "markdown",
   "metadata": {},
   "source": [
    "# 5.统计出现次数最多的分类名称"
   ]
  },
  {
   "cell_type": "raw",
   "metadata": {},
   "source": [
    "决策树构建结束的标准是该分支下面所有的数据都具有相同的分类，如果所有数据都具有相同的分类，则得到的叶子结点或者终止块，任何到达这个叶子结点的必属于这个分类，上代码。"
   ]
  },
  {
   "cell_type": "code",
   "execution_count": 5,
   "metadata": {
    "ExecuteTime": {
     "end_time": "2018-07-24T02:31:38.531396Z",
     "start_time": "2018-07-24T02:31:38.520888Z"
    },
    "collapsed": true
   },
   "outputs": [],
   "source": [
    "#统计出现次数最多的分类名称\n",
    "def majorityCnt(classList):\n",
    "#针对所有特征都用完，但是最后一个特征中类别还是存在很大差异，比如西瓜颜色为青绿的情况下同时存在好瓜和坏瓜，无法进行划分，此时选取该类别中最多的类\n",
    "#作为划分的返回值，majoritycnt的作用就是找到类别最多的一个作为返回值\n",
    "    classCount={}#创建字典\n",
    "    for vote in classList:\n",
    "        if vote not in classCount.keys():\n",
    "            classCount[vote] = 0 #如果现阶段的字典中缺少这一类的特征，创建到字典中并令其值为0\n",
    "        classCount[vote] += 1 #循环一次，在对应的字典索引vote的数量上加一\n",
    "    sortedClassCount = sorted(classCount.items(), key=operator.itemgetter(1), reverse=True)\n",
    "    #operator.itemgetter(1)是抓取其中第2个数据的值\n",
    "    #利用sorted方法对class count进行排序，并且以key=operator.itemgetter(1)作为排序依据降序排序因为用了（reverse=True）,3.0以上的版本不再有iteritems而是items\n",
    "    return sortedClassCount[0][0]\n"
   ]
  },
  {
   "cell_type": "code",
   "execution_count": 34,
   "metadata": {
    "ExecuteTime": {
     "end_time": "2018-07-23T01:28:12.648410Z",
     "start_time": "2018-07-23T01:28:12.639986Z"
    }
   },
   "outputs": [
    {
     "name": "stdout",
     "output_type": "stream",
     "text": [
      "no\n"
     ]
    }
   ],
   "source": [
    "myDat, label = createDataSet()\n",
    "classList2 = [example[-1] for example in myDat]# clasList 是所有类标签\n",
    "#majorityCnt(classList)\n",
    "print ( majorityCnt(classList2))"
   ]
  },
  {
   "cell_type": "raw",
   "metadata": {},
   "source": [
    "比如 \n",
    "1 yes\n",
    "1 yes\n",
    "1 yes\n",
    "1 no\n",
    "怎么添加标签呢\n",
    "classCount={'yes':3,'no':1}\n",
    "用频次来排序\n",
    "\n",
    "分类过程中不可能到最后分支之后所有的数据集都属于同一类，因为存在噪声数据，所以我们是找到分类结束时某个类别最多的类别作为该分支的叶节点的取值，上述代码就是找到数量最多的那一类作为叶节点的取值，其中用到了operator中的items函数，3.x以上的版本不再有iteritems而是items，而《机器学习实战》代码时基于2.x的版本的代码，所以经常会报错，建议大家写代码时边写边思考，从而找到一些不一样的东西，\n",
    "回到正题，items() 方法是把dict对象转换成了包含tuple的list，栗子："
   ]
  },
  {
   "cell_type": "code",
   "execution_count": 134,
   "metadata": {
    "ExecuteTime": {
     "end_time": "2018-07-18T07:16:41.359497Z",
     "start_time": "2018-07-18T07:16:41.349494Z"
    }
   },
   "outputs": [
    {
     "name": "stdout",
     "output_type": "stream",
     "text": [
      "d: {'Adam': 95, 'Lisa': 85, 'Bart': 59} \n",
      " c: dict_items([('Adam', 95), ('Lisa', 85), ('Bart', 59)])\n"
     ]
    }
   ],
   "source": [
    "d = { 'Adam': 95, 'Lisa': 85, 'Bart': 59 }\n",
    "c = d.items()\n",
    "print('d:', d,'\\n',\n",
    "    'c:',c)"
   ]
  },
  {
   "cell_type": "markdown",
   "metadata": {
    "ExecuteTime": {
     "end_time": "2018-07-18T02:57:42.048050Z",
     "start_time": "2018-07-18T02:57:42.029081Z"
    }
   },
   "source": [
    "# 6.创建决策树"
   ]
  },
  {
   "cell_type": "raw",
   "metadata": {},
   "source": [
    "构建决策树用到的最基本的思想是递归，而递归结束的条件有两个：\n",
    "（1）在该分支下所有的类标签都相同，即在该支叶节点下所有的样本都属于同一类；\n",
    "（2）使用了所有的特征，但是样本数据还是存在一定的分歧，这个时候就要使用上诉的majoritycnt(classlist)函数了。\n",
    "\n",
    "在树的构建过程中，是每一次利用choosebestfeaturetosplit(dataset)函数找到在剩下的数据集中信息增益最大的特征作为分类的依据\n",
    "然后每次生成的tree是 mytree={bestfeatlabel:{}}这样的形式，保证了每次递归都在字典中存在子字典，从而最后完成决策树的构建。\n",
    "同时在构建过程中使用过的标签需要进行删除，从而不影响下一次特征的选取，同样也用到了set（）函数。"
   ]
  },
  {
   "cell_type": "raw",
   "metadata": {},
   "source": [
    "决策树学习基本算法\n",
    "\n",
    "输入：训练集 D = {(x1,y1),(x2,y2)````(xm,ym)};\n",
    "     属性集 A = {a1, a2,`````,ad}.\n",
    "过程：函数TreeGenerate(D,A)\n",
    "1.生产节点node；\n",
    "2.if D中样本全属于同一类别C then\n",
    "3.   将node标记为C类叶节点；return\n",
    "4.end if\n",
    "5.if A=null OR D中样本在A上取值相同 then\n",
    "6.   将node标记为叶节点，其类别标记为D中样本数最多的类；then\n",
    "7.end if\n",
    "8.从A中选择最优划分属性a*；\n",
    "9.for a*的每一个值av* do\n",
    "10.   为node生成一个分之；令Dv表示D中在a*上取值为av*的样本子集\n",
    "11.   if Dv为空 then\n",
    "12.      将分支结点标记为叶结点，其类别标记为D中样本最多的类；return\n",
    "13.   else\n",
    "14.      以 TreeGenerate(Dv, A\\{a*})为分支结点\n",
    "15.   end if\n",
    "16.end if\n",
    "输出：以node为根结点的一棵决策树"
   ]
  },
  {
   "cell_type": "code",
   "execution_count": 6,
   "metadata": {
    "ExecuteTime": {
     "end_time": "2018-07-24T02:31:59.557110Z",
     "start_time": "2018-07-24T02:31:59.530816Z"
    },
    "collapsed": true
   },
   "outputs": [],
   "source": [
    "#创建决策树\n",
    "def createTree(dataSet, labels):\n",
    "    classList = [example[-1] for example in dataSet]#提取dataset中的最后一栏——种类标签 \n",
    "    if classList.count(classList[0]) == len(classList):\n",
    "        #计算classlist[0]出现的次数,如果等于classList，说明都是属于一类，不用继续往下划分\n",
    "        #按照classList[0]的类值，对classList进行统计，是否所有类标签的值完全相同，则直接返回该类标签\n",
    "        return classList[0]\n",
    "    if len(dataSet[0]) == 1:#看还剩下多少个属性，如果只有一个属性，但是类别标签又多个，\n",
    "        #就直接用majoritycnt方法进行整理  选取类别最多的作为返回值\n",
    "        return majorityCnt(classList)\n",
    "    bestFeat = chooseBestFeatureToSplit(dataSet) #选取信息增益最大的特征作为下一次分类的依据\n",
    "    bestFeatLabel = labels[bestFeat] #选取特征对应的标签 \n",
    "    myTree = {bestFeatLabel:{}} #创建tree字典，紧跟现阶段最优特征，下一个特征位于第二个大括号内，循环递归\n",
    "    del(labels[bestFeat]) #使用过的特征从中删除\n",
    "    featValues = [example[bestFeat] for example in dataSet]#特征值对应的该栏数据\n",
    "    # 抽取最优特征下的数值，重新组合成list\n",
    "    #print('featValues:',featValues)->featValues: [1, 1, 1, 0, 0]\n",
    "    uniqueVals = set(featValues)#找到featvalues所包含的所有元素，同名元素算一个\n",
    "    for value in uniqueVals:#遍历当前选择特征包含的所有属性值，每个数据集划分上递归调用函数createTree\n",
    "        subLabels = labels[:]#复制了类标签，并将其存储在新列表变量subLabels中\n",
    "        # 子标签的意思是循环一次之后会从中删除用过的标签 ，剩下的就是子标签了\n",
    "        myTree[bestFeatLabel][value] = createTree(splitDataSet(dataSet, bestFeat, value), subLabels)#循环递归生成树\n",
    "        #print('myTree:',myTree)\n",
    "    return myTree"
   ]
  },
  {
   "cell_type": "code",
   "execution_count": 9,
   "metadata": {
    "ExecuteTime": {
     "end_time": "2018-07-24T02:33:36.992453Z",
     "start_time": "2018-07-24T02:33:36.984828Z"
    }
   },
   "outputs": [
    {
     "name": "stdout",
     "output_type": "stream",
     "text": [
      "mytree: {'no surfing ': {0: 'no', 1: {'flippers': {0: 'no', 1: 'yes'}}}}\n"
     ]
    }
   ],
   "source": [
    "myDat, labels = createDataSet()\n",
    "mytree = createTree(myDat, labels)\n",
    "print('mytree:', mytree)"
   ]
  },
  {
   "cell_type": "markdown",
   "metadata": {},
   "source": [
    "# 7.使用matplotlib对生成的树进行注释"
   ]
  },
  {
   "cell_type": "markdown",
   "metadata": {},
   "source": [
    "此过程中主要用到的是matplotlib中的annotate包，具体有很多方法和函数，我也只是过了一下书上的东西，有兴趣继续深入的可以参考：https://www.jianshu.com/p/1411c51194de\n",
    "http://blog.csdn.net/u013457382/article/details/50956459\n",
    "在此罗列一部分方法\n",
    "\n",
    "1.# 添加注释  \n",
    "2.# 第一个参数是注释的内容  \n",
    "3.# xy设置箭头尖的坐标  \n",
    "4.# xytext设置注释内容显示的起始位置  \n",
    "5.# arrowprops 用来设置箭头  \n",
    "6.# facecolor 设置箭头的颜色  \n",
    "7.# headlength 箭头的头的长度  \n",
    "8.# headwidth 箭头的宽度  \n",
    "9.# width 箭身的宽度  \n",
    "10.#plt.annotate(u\"This is a zhushi\", xy = (0, 1), xytext = (-4, 50),\\  \n",
    "11.# arrowprops = dict(facecolor = \"r\", headlength = 10, headwidth = 30, width = 20))  \n",
    "12.# 可以通过设置xy和xytext中坐标的值来设置箭身是否倾斜 \n"
   ]
  },
  {
   "cell_type": "code",
   "execution_count": 141,
   "metadata": {
    "ExecuteTime": {
     "end_time": "2018-07-18T07:47:38.020987Z",
     "start_time": "2018-07-18T07:47:37.978076Z"
    },
    "collapsed": true
   },
   "outputs": [],
   "source": [
    "import matplotlib.pyplot as plt\n",
    "from pylab import mpl\n",
    "\n",
    "mpl.rcParams['font.sans-serif'] = ['FangSong'] # 指定默认字体\n",
    "mpl.rcParams['axes.unicode_minus'] = False # 解决保存图像是负号'-'显示为方块的问题\n",
    "#使用文本注解绘制树节点\n",
    "#包含来边框的类型，边框线的粗细等\n",
    "decisionNode = dict(boxstyle = \"sawtooth\", fc = '0.8', pad = 1)\n",
    "# boxstyle为文本框的类型，sawtooth是锯齿形，fc是边框线粗细  ,pad指的是外边框锯齿形（圆形等）的大小\n",
    "leafNode = dict(boxstyle = \"round4\", fc =\"0.8\", pad = 1)# 定义决策树的叶子结点的描述属性 round4表示圆形\n",
    "arrow_args = dict(arrowstyle='<-')#定义箭头属性\n",
    "\n",
    "def plotNode(nodeTxt, centerPt, parentPt, nodeType):\n",
    "    #annotate是关于一个数据点的文本 \n",
    "    #nodeTxt为要显示的文本，centerPt为文本的中心点，箭头所在的点，parentPt为指向文本的点  \n",
    "    #annotate的作用是添加注释，nodetxt是注释的内容，\n",
    "    #nodetype指的是输入的节点（边框）的形状\n",
    "    createPlot.ax1.annotate(nodeTxt,xy=parentPt,xycoords='axes fraction',\\\n",
    "                           xytext=centerPt, textcoords='axes fraction',\\\n",
    "                           va =\"center\", ha=\"center\", bbox=nodeType, arrowprops=arrow_args)\n",
    "    \n",
    "def createPlot():\n",
    "    fig = plt.figure(1, facecolor = 'white')\n",
    "    fig.clf()\n",
    "    createPlot.ax1 = plt.subplot(111, frameon = False)\n",
    "    plotNode(U'决策节点', (0.5, 0.1), (0.1, 0.5), decisionNode)\n",
    "    plotNode(U'叶节点', (0.8, 0.1), (0.3, 0.8), leafNode)\n",
    "    plt.show()\n",
    "    \n"
   ]
  },
  {
   "cell_type": "code",
   "execution_count": 142,
   "metadata": {
    "ExecuteTime": {
     "end_time": "2018-07-18T07:47:39.251074Z",
     "start_time": "2018-07-18T07:47:38.963135Z"
    }
   },
   "outputs": [
    {
     "data": {
      "image/png": "[encoded data removed]",
      "text/plain": [
       "<matplotlib.figure.Figure at 0x10cbf7080>"
      ]
     },
     "metadata": {},
     "output_type": "display_data"
    }
   ],
   "source": [
    "createPlot()"
   ]
  },
  {
   "cell_type": "markdown",
   "metadata": {},
   "source": [
    "# 8.计算树的叶节点数目和树的层数"
   ]
  },
  {
   "cell_type": "raw",
   "metadata": {},
   "source": [
    "getnumleafs（）函数和gettreedepth（）函数在结构和方法上都比较类似，\n",
    "因为tree字典中的每一个大括号的第一个字符都是它对应的键值，所以我们只需要判断第二个还是不是键值，如果是的话说明还有树或者深度，都是用了递归的思想，在每次循环中都先找到该字典中的第一个字符，然后判断在该键值下的第二个字符是不是还是键，是的话说明还有深度或者层数，不是的话说明已经找完了。其中遇到了这样的问题：\n",
    "（1）一开始写这句的时候if type(seconddict[key]).__name__=='dict':书上的是.-name-（单个下划线），但是实际上是双下划线，再者当不加.__name__得时候type函数获得的是字典得类型，而不是本身就是字典，所以要加上name表示这个名字叫做“dict”。\n",
    "（2）2.x的版本中是firststr=mytree.keys()[],但是dict_keys型的数据不支持索引，所以强制转换成list即可，即 firststr=list(mytree.keys())[0]。"
   ]
  },
  {
   "cell_type": "code",
   "execution_count": 172,
   "metadata": {
    "ExecuteTime": {
     "end_time": "2018-07-18T09:01:15.460700Z",
     "start_time": "2018-07-18T09:01:15.429030Z"
    },
    "collapsed": true
   },
   "outputs": [],
   "source": [
    "#获取叶节点的数目和树的层数\n",
    "def getNumLeafs(myTree):#计算叶子节点的个数（不包括中间的分支节点）  \n",
    "    numLeafs = 0\n",
    "    firstStr = list(myTree.keys())[0]# 获得myTree的第一个键值，即第一个特征，分割的标签   \n",
    "    #遇到的问题是mytree.keys()获得的类型是dict_keys，而dict_keys不支持索引，我的解决办法是把获得的dict_keys强制转化为list即可  \n",
    "    secondDict = myTree[firstStr]# 根据键值得到对应的值，即根据第一个特征分类的结果   \n",
    "    for key in secondDict.keys(): #获取第二个小字典中的key  \n",
    "        if type(secondDict[key]).__name__=='dict':\n",
    "            #判断是否小字典中是否还包含新的字典（即新的分支）   \n",
    "            #书上写的是.-name-但是3.0以后得版本都应该写成.__name__(两个下划线) 重点！！！ \n",
    "            numLeafs += getNumLeafs(secondDict[key])\n",
    "            #包含的话进行递归从而继续循环获得新的分支所包含的叶节点的数量  \n",
    "        else:  numLeafs += 1#不包含的话就停止迭代并把现在的小字典加一表示这边有一个分支  \n",
    "    return numLeafs\n",
    "\n",
    "def getTreeDepth(myTree):##计算判断节点的个数  \n",
    "    maxDepth = 0\n",
    "    firstStr = list(myTree.keys())[0]\n",
    "    secondDict = myTree[firstStr]\n",
    "    for key in secondDict.keys():\n",
    "        if type(secondDict[key]).__name__=='dict':\n",
    "            thisDepth = 1+ getTreeDepth(secondDict[key])\n",
    "        else: thisDepth = 1\n",
    "        if thisDepth > maxDepth:\n",
    "            maxDepth = thisDepth #间隔 间隔间隔得问题一定要多考虑啊啊啊啊啊啊  \n",
    "    return maxDepth\n"
   ]
  },
  {
   "cell_type": "markdown",
   "metadata": {},
   "source": [
    "# 9.成决策树图形"
   ]
  },
  {
   "cell_type": "raw",
   "metadata": {},
   "source": [
    "xOff\n",
    "\n",
    "xOff和yOff用来记录当前要画的叶子结点的位置。\n",
    "画布的范围x轴和y轴都是0到1，我们希望所有的叶子结点平均分布在x轴上。totalW记录叶子结点的个数，那么 1/totalW 正好是每个叶子结点的宽度\n",
    "如果叶子结点的坐标是 1/totalW , 2/totalW, 3/totalW, …, 1 的话，就正好在宽度的最右边，为了让坐标在宽度的中间，需要减去0.5 / totalW 。所以createPlot函数中，初始化 plotTree.xOff 的值为-0.5/plotTree.totalW。这样每次 xOff + 1/totalW ，正好是下1个结点的准确位置\n",
    "yOff\n",
    "yOff的初始值为1，每向下递归一次，这个值减去 1 / totalD\n",
    "cntrPt\n",
    "cntrPt用来记录当前要画的树的树根的结点位置\n",
    "在plotTree函数中，它是这样计算的\n",
    "cntrPt = (plotTree.xOff + (1.0 + float(numLeafs))/2.0/plotTree.totalW, plotTree.yOff)\n",
    "numLeafs记录当前的树中叶子结点个数。我们希望树根在这些所有叶子节点的中间。\n",
    "plotTree.xOff + (1.0 + float(numLeafs))/2.0/plotTree.totalW\n",
    "这里的 1.0 + numLeafs 需要拆开来理解，也就是\n",
    "plotTree.xOff +  float(numLeafs)/2.0/plotTree.totalW +1.0/2.0/plotTree.totalW\n",
    "plotTree.xOff +  1/2 * float(numLeafs)/plotTree.totalW + 0.5/plotTree.totalW\n",
    "因为xOff的初始值是-0.5/plotTree.totalW ，是往左偏了0.5/plotTree.tatalW 的，这里正好加回去。这样cntrPt记录的x坐标正好是所有叶子结点的中心点\n",
    "#plottree.totalw和plottree.totald是全局变量  \n",
    "'''    "
   ]
  },
  {
   "cell_type": "code",
   "execution_count": 173,
   "metadata": {
    "ExecuteTime": {
     "end_time": "2018-07-18T09:01:17.938394Z",
     "start_time": "2018-07-18T09:01:17.564579Z"
    }
   },
   "outputs": [
    {
     "name": "stdout",
     "output_type": "stream",
     "text": [
      "muytree: {'no surfacing': {0: 'no', 1: {'flippers': {0: 'no', 1: 'yes'}}}}\n"
     ]
    },
    {
     "data": {
      "image/png": "[encoded data removed]",
      "text/plain": [
       "<matplotlib.figure.Figure at 0x10cb360b8>"
      ]
     },
     "metadata": {},
     "output_type": "display_data"
    }
   ],
   "source": [
    "def plotMidText(cntrPt, parentPt, txtString):\n",
    "    xMid = (parentPt[0]-cntrPt[0])/2.0 + cntrPt[0]\n",
    "    yMid = (parentPt[1]-cntrPt[1])/2.0 + cntrPt[1]\n",
    "    createPlot.ax1.text(xMid, yMid, txtString, va=\"center\", ha=\"center\", rotation=30)\n",
    "\n",
    "def plotTree(myTree, parentPt, nodeTxt):#if the first key tells you what feat was split on\n",
    "    numLeafs = getNumLeafs(myTree)  #this determines the x width of this tree\n",
    "    depth = getTreeDepth(myTree)\n",
    "    firstStr = list(myTree.keys())[0]     #the text label for this node should be this\n",
    "    cntrPt = (plotTree.xOff + (1.0 + float(numLeafs))/2.0/plotTree.totalW, plotTree.yOff)\n",
    "    plotMidText(cntrPt, parentPt, nodeTxt)\n",
    "    plotNode(firstStr, cntrPt, parentPt, decisionNode)\n",
    "    secondDict = myTree[firstStr]\n",
    "    plotTree.yOff = plotTree.yOff - 1.0/plotTree.totalD\n",
    "    for key in secondDict.keys():\n",
    "        if type(secondDict[key]).__name__=='dict':#test to see if the nodes are dictonaires, if not they are leaf nodes   \n",
    "            plotTree(secondDict[key],cntrPt,str(key))        #recursion\n",
    "        else:   #it's a leaf node print the leaf node\n",
    "            plotTree.xOff = plotTree.xOff + 1.0/plotTree.totalW\n",
    "            plotNode(secondDict[key], (plotTree.xOff, plotTree.yOff), cntrPt, leafNode)\n",
    "            plotMidText((plotTree.xOff, plotTree.yOff), cntrPt, str(key))\n",
    "    plotTree.yOff = plotTree.yOff + 1.0/plotTree.totalD\n",
    "#if you do get a dictonary you know it's a tree, and the first element will be another dict\n",
    "\n",
    "def createPlot(inTree):\n",
    "    fig = plt.figure(1, facecolor='white')\n",
    "    fig.clf()\n",
    "    axprops = dict(xticks=[], yticks=[])\n",
    "    createPlot.ax1 = plt.subplot(111, frameon=False, **axprops)    #no ticks\n",
    "    #createPlot.ax1 = plt.subplot(111, frameon=False) #ticks for demo puropses \n",
    "    plotTree.totalW = float(getNumLeafs(inTree))\n",
    "    plotTree.totalD = float(getTreeDepth(inTree))\n",
    "    plotTree.xOff = -0.5/plotTree.totalW; plotTree.yOff = 1.0;\n",
    "    plotTree(inTree, (0.5,1.0), '')\n",
    "    plt.show()\n",
    "\n",
    "#def createPlot():\n",
    "#    fig = plt.figure(1, facecolor='white')\n",
    "#    fig.clf()\n",
    "#    createPlot.ax1 = plt.subplot(111, frameon=False) #ticks for demo puropses \n",
    "#    plotNode('a decision node', (0.5, 0.1), (0.1, 0.5), decisionNode)\n",
    "#    plotNode('a leaf node', (0.8, 0.1), (0.3, 0.8), leafNode)\n",
    "#    plt.show()\n",
    "\n",
    "mytree = retrieveTree(0)\n",
    "print('muytree:',mytree)\n",
    "#getNumLeafs(mytree)\n",
    "createPlot(mytree)\n"
   ]
  },
  {
   "cell_type": "code",
   "execution_count": null,
   "metadata": {
    "collapsed": true
   },
   "outputs": [],
   "source": []
  },
  {
   "cell_type": "code",
   "execution_count": null,
   "metadata": {
    "collapsed": true
   },
   "outputs": [],
   "source": [
    "预剪枝是指在决策树生成过程中，对每个结点在划分之前先进行估计，若当前结点的划分不能带来决策树泛化性能提升，则停止划分并将当前结点标记为叶节点\n",
    "后剪枝则是从训练集生成一棵完整的决策树，然后自底向上地对非叶结点进行考察，若将该节点对应的子树替换为叶结点能带来决策树泛化能力提升，则将子树替换为叶结点\n",
    "如何判断"
   ]
  },
  {
   "cell_type": "code",
   "execution_count": null,
   "metadata": {
    "collapsed": true
   },
   "outputs": [],
   "source": []
  },
  {
   "cell_type": "code",
   "execution_count": null,
   "metadata": {
    "collapsed": true
   },
   "outputs": [],
   "source": []
  },
  {
   "cell_type": "code",
   "execution_count": 176,
   "metadata": {
    "ExecuteTime": {
     "end_time": "2018-07-19T07:20:33.433619Z",
     "start_time": "2018-07-19T07:20:33.429337Z"
    },
    "collapsed": true
   },
   "outputs": [],
   "source": [
    "a=(6/17)\n",
    "b=(5/17)"
   ]
  },
  {
   "cell_type": "code",
   "execution_count": 178,
   "metadata": {
    "ExecuteTime": {
     "end_time": "2018-07-19T07:21:12.896093Z",
     "start_time": "2018-07-19T07:21:12.886555Z"
    }
   },
   "outputs": [
    {
     "data": {
      "text/plain": [
       "1.5798634010685344"
      ]
     },
     "execution_count": 178,
     "metadata": {},
     "output_type": "execute_result"
    }
   ],
   "source": [
    "IV = -(a*log(a,2)+a*log(a,2)+b*log(b,2))\n",
    "IV"
   ]
  },
  {
   "cell_type": "code",
   "execution_count": 175,
   "metadata": {
    "ExecuteTime": {
     "end_time": "2018-07-19T07:08:15.304655Z",
     "start_time": "2018-07-19T07:08:15.290343Z"
    }
   },
   "outputs": [
    {
     "data": {
      "text/plain": [
       "1.9709505944546688"
      ]
     },
     "execution_count": 175,
     "metadata": {},
     "output_type": "execute_result"
    }
   ],
   "source": [
    "IV = -(0.*log(0.5,2) + 0.5*log(0.5,2) + 0.4*log(0.4,2) + 0.6*log(0.6,2)) \n",
    "IV"
   ]
  },
  {
   "cell_type": "code",
   "execution_count": null,
   "metadata": {
    "collapsed": true
   },
   "outputs": [],
   "source": []
  },
  {
   "cell_type": "code",
   "execution_count": null,
   "metadata": {
    "collapsed": true
   },
   "outputs": [],
   "source": []
  },
  {
   "cell_type": "code",
   "execution_count": null,
   "metadata": {
    "collapsed": true
   },
   "outputs": [],
   "source": []
  },
  {
   "cell_type": "code",
   "execution_count": null,
   "metadata": {
    "collapsed": true
   },
   "outputs": [],
   "source": []
  },
  {
   "cell_type": "markdown",
   "metadata": {},
   "source": [
    "# 7.决策树的分类函数"
   ]
  },
  {
   "cell_type": "raw",
   "metadata": {},
   "source": [
    "依靠训练数据构造了决策树之后，可以将它用于实际数据的分类\n",
    "在执行数据分类时，需要决策树及用于构造树的标签向量\n",
    "程序比较测试数据与决策树上的数值，递归执行该过程直到进入叶子结点\n",
    "将测试数据定义为叶子节点所属的类型"
   ]
  },
  {
   "cell_type": "code",
   "execution_count": 113,
   "metadata": {
    "ExecuteTime": {
     "end_time": "2018-07-18T06:19:51.540345Z",
     "start_time": "2018-07-18T06:19:51.531940Z"
    },
    "collapsed": true
   },
   "outputs": [],
   "source": [
    "#函数retrieveTree输出预先存储的树信息\n",
    "#避免每次测试代码时都要从数据中创建树的麻烦\n",
    "def retrieveTree(i):\n",
    "    listOfTrees = [{'no surfacing':{0:'no',1:{'flippers':\\\n",
    "                                              {0:'no',1:'yes'}}}},\n",
    "                   {'no surfacing':{0:'no',1:{'flippers':\\\n",
    "                    {0:{'head':{0:'no',1:'yes'}},1:'no'}}}}\n",
    "                   ]\n",
    "    return listOfTrees[i]"
   ]
  },
  {
   "cell_type": "code",
   "execution_count": 116,
   "metadata": {
    "ExecuteTime": {
     "end_time": "2018-07-18T06:27:23.641377Z",
     "start_time": "2018-07-18T06:27:23.626223Z"
    },
    "collapsed": true
   },
   "outputs": [],
   "source": [
    "#函数retrieveTree输出预先存储的树信息\n",
    "#避免每次测试代码时都要从数据中创建树的麻烦\n",
    "\n",
    "def classify(inputTree, featLabels, testVec):\n",
    "    classLabel = ''\n",
    "    firstStr = list(inputTree.keys())[0] # 找到输入树当中键值[0]位置的值给firstStr#print('firstStr:', firstStr)\n",
    "    secondDict = inputTree[firstStr]\n",
    "    featIndex = featLabels.index(firstStr)\n",
    "    for key in secondDict.keys():\n",
    "        if testVec[featIndex] == key:\n",
    "            if type(secondDict[key]).__name__ == 'dict':\n",
    "                classLabel = classify(secondDict[key], featLabels, testVec)\n",
    "            else:\n",
    "                classLabel =secondDict[key]\n",
    "    \n",
    "    return classLabel"
   ]
  },
  {
   "cell_type": "code",
   "execution_count": 117,
   "metadata": {
    "ExecuteTime": {
     "end_time": "2018-07-18T06:27:24.624901Z",
     "start_time": "2018-07-18T06:27:24.609233Z"
    }
   },
   "outputs": [
    {
     "name": "stdout",
     "output_type": "stream",
     "text": [
      "myTree: {'no surfacing': {0: 'no', 1: {'flippers': {0: 'no', 1: 'yes'}}}}\n",
      "firstStr: no surfing \n",
      "firstStr: flippers\n",
      "[1,0] is : no\n",
      "firstStr: no surfing \n",
      "firstStr: flippers\n",
      "[1,1] is: yes\n"
     ]
    }
   ],
   "source": [
    "myDat,labels = createDataSet()\n",
    "myTree = retrieveTree(0)\n",
    "print('myTree:', myTree)\n",
    "\n",
    "classlabel_1 = classify(mytree, labels, [1, 0])\n",
    "print ('[1,0] is :', classlabel_1)\n",
    "classlabel_2 = classify(mytree, labels, [1, 1])\n",
    "print ('[1,1] is:', classlabel_2)\n",
    "\n",
    "\"\"\"\n",
    "ValueError: 'no surfacing' is not in list\n",
    "主要原因是我先运行 mytree=createtree(data1,labels1)函数，\n",
    "而createtree函数在运行过程中回删除标签中已经用过的值，所以导致之后labels不完整，解决方法是再新建一个即可。\n",
    "\"\"\""
   ]
  },
  {
   "cell_type": "markdown",
   "metadata": {},
   "source": [
    "# 8.树的存储和读取"
   ]
  },
  {
   "cell_type": "raw",
   "metadata": {},
   "source": [
    "存储与读取决策树主要是用到了pickle模块，具体我也没有细细的去深究pickle模块，具体可以参考http://www.php.cn/python-tutorials-372984.html。\n",
    "\n",
    "运行过程中报错如下：\n",
    "\n",
    "fr=open(filename)\n",
    "return pickle.load(fr)\n",
    "但是报错UnicodeDecodeError: 'gbk' codec can't decode byte 0x80 in position 0: illegal multibyte sequence\n",
    "这是因为早期的pickle代码是二进制的pickle（除了最早的版本外）是二进制格式的，所以你应该带 'rb' 标志打开文件。\n",
    "改成\n",
    "def grabtree(filename):\n",
    "import pickle\n",
    "fr=open(filename,'rb')\n",
    "return pickle.load(fr)即可"
   ]
  },
  {
   "cell_type": "code",
   "execution_count": 120,
   "metadata": {
    "ExecuteTime": {
     "end_time": "2018-07-18T06:47:58.429919Z",
     "start_time": "2018-07-18T06:47:58.417425Z"
    },
    "collapsed": true
   },
   "outputs": [],
   "source": [
    "#生成决策树的存储\n",
    "def storeTree(inputTree, filename):\n",
    "    import pickle\n",
    "    fw = open(filename, 'wb')\n",
    "    pickle.dump(inputTree, fw)\n",
    "    fw.close()\n",
    "\n",
    "def grabTree(filename):\n",
    "    import pickle\n",
    "    fr = open(filename, 'rb')\n",
    "    return pickle.load(fr)\n",
    "\"\"\"\n",
    "错误原因：pickle模块存储的是二进制字节码，需要以二进制的方式进行读写\n",
    "1. 报错一：TypeError: write() argument must be str, not bytes\n",
    "2. 报错二：UnicodeDecodeError: 'utf-8' codec can't decode byte 0x80 in position 0: invalid start byte\n",
    "\n",
    "http://www.cnblogs.com/huiAlex/p/8855810.html\n",
    "\"\"\""
   ]
  },
  {
   "cell_type": "code",
   "execution_count": 121,
   "metadata": {
    "ExecuteTime": {
     "end_time": "2018-07-18T06:47:59.082057Z",
     "start_time": "2018-07-18T06:47:59.073747Z"
    }
   },
   "outputs": [
    {
     "name": "stdout",
     "output_type": "stream",
     "text": [
      "{'no surfing ': {0: 'no', 1: {'flippers': {0: 'no', 1: 'yes'}}}}\n"
     ]
    }
   ],
   "source": [
    "storeTree(mytree, 'classifierstorage.txt')\n",
    "print(grabTree('classifierstorage.txt')) "
   ]
  },
  {
   "cell_type": "code",
   "execution_count": null,
   "metadata": {
    "collapsed": true
   },
   "outputs": [],
   "source": []
  },
  {
   "cell_type": "code",
   "execution_count": null,
   "metadata": {
    "collapsed": true
   },
   "outputs": [],
   "source": []
  },
  {
   "cell_type": "code",
   "execution_count": null,
   "metadata": {
    "collapsed": true
   },
   "outputs": [],
   "source": []
  },
  {
   "cell_type": "code",
   "execution_count": null,
   "metadata": {
    "collapsed": true
   },
   "outputs": [],
   "source": []
  },
  {
   "cell_type": "code",
   "execution_count": null,
   "metadata": {
    "collapsed": true
   },
   "outputs": [],
   "source": []
  },
  {
   "cell_type": "code",
   "execution_count": null,
   "metadata": {
    "collapsed": true
   },
   "outputs": [],
   "source": [
    "决策树学习基本算法\n",
    "\n",
    "输入：训练集 D = {(x1,y1),(x2,y2)````(xm,ym)};\n",
    "     属性集 A = {a1, a2,`````,ad}.\n",
    "过程：函数TreeGenerate(D,A)\n",
    "1.生产节点node；\n",
    "2.if D中样本全属于同一类别C then\n",
    "3.   将node标记为C类叶节点；return\n",
    "4.end if\n",
    "5.if A=null OR D中样本在A上取值相同 then\n",
    "6.   将node标记为叶节点，其类别标记为D中样本数最多的类；then\n",
    "7.end if\n",
    "8.从A中选择最优划分属性a*；\n",
    "9.for a*的每一个值av* do\n",
    "10.   为node生成一个分之；令Dv表示D中在a*上取值为av*的样本子集\n",
    "11.   if Dv为空 then\n",
    "12.      将分支结点标记为叶结点，其类别标记为D中样本最多的类；return\n",
    "13.   else\n",
    "14.      以 TreeGenerate(Dv, A\\{a*})为分支结点\n",
    "15.   end if\n",
    "16.end if\n",
    "输出：以node为根结点的一棵决策树"
   ]
  },
  {
   "cell_type": "code",
   "execution_count": null,
   "metadata": {
    "collapsed": true
   },
   "outputs": [],
   "source": []
  },
  {
   "cell_type": "code",
   "execution_count": null,
   "metadata": {
    "collapsed": true
   },
   "outputs": [],
   "source": []
  },
  {
   "cell_type": "code",
   "execution_count": null,
   "metadata": {
    "collapsed": true
   },
   "outputs": [],
   "source": []
  },
  {
   "cell_type": "code",
   "execution_count": 1,
   "metadata": {
    "ExecuteTime": {
     "end_time": "2018-07-17T04:20:59.485927Z",
     "start_time": "2018-07-17T04:20:59.481146Z"
    },
    "collapsed": true
   },
   "outputs": [],
   "source": [
    "from math import log"
   ]
  },
  {
   "cell_type": "markdown",
   "metadata": {},
   "source": [
    "## 3-1 计算给定数据集的香农熵 P36"
   ]
  },
  {
   "cell_type": "raw",
   "metadata": {
    "collapsed": true
   },
   "source": [
    "1.计算数据集中实例的总数\n",
    "2.创建一个数据字典，它的键值是最后一列的数值\n",
    "3.如果当前键值不存在，则扩展字典并将当前键值加入字典。\n",
    "每个键值都记录了当前类别出现的次数\n",
    "4.使用所有标签的发生频率计算类别出现的概率。用这个概率计算香农熵，统计所有类别标签发生的次数\n",
    "\n",
    "熵越高，则混合的数据也越多"
   ]
  },
  {
   "cell_type": "code",
   "execution_count": 31,
   "metadata": {
    "ExecuteTime": {
     "end_time": "2018-07-17T05:51:06.335023Z",
     "start_time": "2018-07-17T05:51:06.290555Z"
    }
   },
   "outputs": [
    {
     "name": "stdout",
     "output_type": "stream",
     "text": [
      "[[1, 1, 'yes'], [1, 1, 'yes'], [1, 0, 'no'], [0, 1, 'no'], [0, 1, 'no']]\n"
     ]
    }
   ],
   "source": [
    "def calcShannonEnt(dataSet):\n",
    "    numEntries = len(dataSet) # 列表元素个数\n",
    "    labelCounts = {}# 创建了一个数据字典\n",
    "    for featVec in dataSet:\n",
    "        currentLabel = featVec[-1]#数据字典的键值是最后一列的数值\n",
    "        if currentLabel not in labelCounts.keys(): #字典.keys() 输出所有键\n",
    "            labelCounts[currentLabel] = 0\n",
    "        labelCounts[currentLabel] += 1\n",
    "        #print(labelCounts)\n",
    "    shannonEnt = 0.0\n",
    "    for key in labelCounts:\n",
    "        prob = float(labelCounts[key]) / numEntries\n",
    "        shannonEnt -= prob*log(prob,2)\n",
    "    return shannonEnt\n",
    "        #print(labelCounts[key],numEntries)\n",
    "        #prob = float(labelCounts[key]) / numEntries\n",
    "        #print(prob)\n",
    "\n",
    "    \n",
    "    \n",
    "def createDataSet():\n",
    "    dataSet  = [[1, 1, 'yes'],\n",
    "                     [1, 1, 'yes'],\n",
    "                     [1, 0, 'no'],\n",
    "                     [0, 1, 'no'],\n",
    "                     [0, 1, 'no']]\n",
    "\n",
    "    labels = [ 'no surfcaing', 'flippers' ]\n",
    "    return dataSet, labels\n",
    "\n",
    "if __name__ == '__main__': #直接运行decision_tree,这个main函数会运行，如果是import decision_tree，main函数不运行\n",
    "    myDat, labels = createDataSet()\n",
    "    \n",
    "    #myDat[0][-1] = 'maybe'\n",
    " \n",
    "    \n",
    "    print(myDat)\n",
    "    #print(calcShannonEnt(myDat))"
   ]
  },
  {
   "cell_type": "markdown",
   "metadata": {
    "collapsed": true
   },
   "source": [
    "## 3-2 按照给定特征划分数据集 P37"
   ]
  },
  {
   "cell_type": "code",
   "execution_count": null,
   "metadata": {
    "collapsed": true
   },
   "outputs": [],
   "source": [
    "分类算法需要测量信息熵，还需要划分数据集，度量划分数据集的熵，以便判断当前是否正确地划分了数据集\n",
    "将对每个特征划分数据集的结果计算一次信息熵\n",
    "然后判断按照哪个特征划分数据集是最好的划分方式\n",
    "\n",
    "代码使用了三个输入参数：待划分的数据集、划分数据集的特征、需要返回的特征的值\n",
    "因为该函数代码在同一数据集上被调用多次，为了不修改原始数据集，创建一个新的列表对象\n",
    "\n",
    "数据集这个列表中的各个元素也是列表，要遍历数据集中的每个元素，一旦发现符合要求的值，则将其添加到新创建的列表中\n",
    "在if语句中，程序将符合特征的数据抽取出来"
   ]
  },
  {
   "cell_type": "code",
   "execution_count": null,
   "metadata": {
    "collapsed": true
   },
   "outputs": [],
   "source": []
  },
  {
   "cell_type": "code",
   "execution_count": 38,
   "metadata": {
    "ExecuteTime": {
     "end_time": "2018-07-17T06:00:37.161482Z",
     "start_time": "2018-07-17T06:00:37.148109Z"
    },
    "collapsed": true
   },
   "outputs": [],
   "source": [
    "def splitDataSet(dataSet, axis, value):\n",
    "    retDataSet = []\n",
    "    for featVec in dataSet:\n",
    "        if featVec[axis] == value:\n",
    "            #print(\"featVec[axis]\",featVec[axis])\n",
    "            reduceFeatVec = featVec[:axis]\n",
    "            #print(\"reduceFeatVec\",reduceFeatVec)\n",
    "            reduceFeatVec.extend(featVec[axis+1:])\n",
    "            #print(\"reduceFeatVec\",reduceFeatVec)\n",
    "            retDataSet.append(reduceFeatVec)\n",
    "           #print(retDataSet)\n",
    "    return retDataSet\n",
    "#myDat \n",
    "#splitDataSet(myDat, 1, 0)\n",
    "#print(splitDataSet(myDat, 1, 0))\n",
    "#print(splitDataSet(myDat, 0, 1))"
   ]
  },
  {
   "cell_type": "code",
   "execution_count": 4,
   "metadata": {
    "ExecuteTime": {
     "end_time": "2018-07-17T04:21:07.391874Z",
     "start_time": "2018-07-17T04:21:07.370795Z"
    }
   },
   "outputs": [
    {
     "data": {
      "text/plain": [
       "[1, 2, 3, [4, 5, 6], 4, 5, 6]"
      ]
     },
     "execution_count": 4,
     "metadata": {},
     "output_type": "execute_result"
    }
   ],
   "source": [
    "a = [1, 2, 3]\n",
    "b = [4, 5, 6]\n",
    "a.append(b)#列表得到了第四个元素，而且第四个元素也是一个list\n",
    "a\n",
    "a.extend(b)#得到了一个包含a 和 b 所有元素的列表\n",
    "a"
   ]
  },
  {
   "cell_type": "code",
   "execution_count": null,
   "metadata": {
    "collapsed": true
   },
   "outputs": [],
   "source": []
  },
  {
   "cell_type": "markdown",
   "metadata": {},
   "source": [
    "## 3-3 选择最好的数据集划分方式"
   ]
  },
  {
   "cell_type": "raw",
   "metadata": {},
   "source": [
    "chooseBestFeatureToSplit()该函数实现选取特征，划分数据集，计算得出最好的划分数据集的特征\n",
    "使用了calcShannonEnt() splitDataSet()\n",
    "该函数中的数据需要满足一定的要求：\n",
    "1.数据必须是一种由列表元素组成的列表，而且所有的列表元素都要具有相同的数据长度；\n",
    "2.数据的最后一列或者每个实例的最后一个元素是当前实例的类别标签\n"
   ]
  },
  {
   "cell_type": "code",
   "execution_count": 5,
   "metadata": {
    "ExecuteTime": {
     "end_time": "2018-07-17T04:21:10.061864Z",
     "start_time": "2018-07-17T04:21:10.053488Z"
    }
   },
   "outputs": [
    {
     "data": {
      "text/plain": [
       "[[1, 1, 'yes'], [1, 1, 'yes'], [1, 0, 'no'], [0, 1, 'no'], [0, 1, 'no']]"
      ]
     },
     "execution_count": 5,
     "metadata": {},
     "output_type": "execute_result"
    }
   ],
   "source": [
    "myDat"
   ]
  },
  {
   "cell_type": "code",
   "execution_count": 32,
   "metadata": {
    "ExecuteTime": {
     "end_time": "2018-07-17T05:51:14.910636Z",
     "start_time": "2018-07-17T05:51:14.870509Z"
    },
    "collapsed": true
   },
   "outputs": [],
   "source": [
    "def chooseBestFeatureToSplit(dataSet):\n",
    "    numFeatures = len(dataSet[0]) - 1\n",
    "    #print(dataSet[0],len(dataSet[0]),numFeatures)  out：[1, 1, 'yes'] 3 2 \n",
    "    bestEntropy = calcShannonEnt(dataSet)\n",
    "    #print(bestEntropy)  out:0.9709505944546686\n",
    "    bestInfoGain = 0.0; bestFeature = -1\n",
    "    for i in range(numFeatures):\n",
    "        #print (i ) out: 0 1 \n",
    "        featList = [example[i] for example in dataSet]\n",
    "        \"\"\"\n",
    "        example[i] for example in dataSet,for example in dataSet是取行，myDat共有5行，\n",
    "        example[0] for example in dataSet每次取每一行的【0】值，相当于取列\"\"\"\n",
    "        #print(featList) #out:[1, 1, 1, 0, 0]  [1, 1, 0, 1, 1]\n",
    "        uniqueVals = set(featList)\n",
    "        #创建唯一的分类标签的列表   print(uniqueVals) out:{0, 1}{0, 1} 取出每个类别的属性值\n",
    "        newEntropy = 0.0\n",
    "        for value in uniqueVals:\n",
    "            subDataSet = splitDataSet(dataSet, i, value )\n",
    "            \"\"\"\n",
    "            print(subDataSet)\n",
    "            \n",
    "            [[1, 'no'], [1, 'no']]\n",
    "            [[1, 'yes'], [1, 'yes'], [0, 'no']]\n",
    "            \n",
    "            [[1, 'no']]\n",
    "            [[1, 'yes'], [1, 'yes'], [0, 'no'], [0, 'no']]\n",
    "            \"\"\"\n",
    "            prob = len(subDataSet) / float(len(dataSet))\n",
    "            newEntropy += prob * calcShannonEnt(subDataSet)\n",
    "            \"\"\"\n",
    "            print(i,newEntropy)\n",
    "            0 0.0\n",
    "            0 0.5509775004326937\n",
    "            \n",
    "            1 0.0\n",
    "            1 0.8\n",
    "            \"\"\"\n",
    "        infoGain = bestEntropy - newEntropy\n",
    "        \"\"\"\n",
    "        print(i,infoGain)\n",
    "        \n",
    "        0 0.4199730940219749\n",
    "        1 0.17095059445466854\"\"\"\n",
    "        if (infoGain > bestInfoGain):\n",
    "            bestInfoGain = infoGain\n",
    "            bestFeature = i \n",
    "            #print(bestInfoGain)0.4199730940219749\n",
    "    return bestFeature\n",
    "\n",
    "#chooseBestFeatureToSplit(myDat)\n",
    "#myDat"
   ]
  },
  {
   "cell_type": "raw",
   "metadata": {},
   "source": [
    "example[i] for example in dataSet\n",
    "\n",
    "\n",
    "这个方式是一个列表生成式。[i for i in range(10)],会生成一个[0,1,2,3,4,5,6,7,8,9]的列表。这里面，dataset是一个可迭代的对象，可能是列表，元祖或者自定义的可迭代的对象。这个迭代器里面，每个元素是一个字典，或者list。然后通过i去取出expamle中，key为i,或者第i个元素，通过这些元素，组成一个新的列表\n",
    "\n",
    "语句featList = [example[i] for example in dataSet]作用为： \n",
    "将dataSet中的数据按行依次放入example中，然后取得example中的example[i]元素，放入列表featList中\n",
    "\n",
    "语句classList = [example[-1] for example in dataSet]作用为： \n",
    "将dataSet中的数据按行依次放入example中，然后取得example中的example[-1]元素，放入列表classList中\n"
   ]
  },
  {
   "cell_type": "markdown",
   "metadata": {
    "collapsed": true
   },
   "source": [
    "## 递归构建决策树"
   ]
  },
  {
   "cell_type": "raw",
   "metadata": {
    "collapsed": true
   },
   "source": [
    "递归结束的条件：程序遍历所有划分数据集的属性，或者每个分之下的所有实例都具有相同的分类。\n",
    "如果所有实例具有相同的分类，则得到的是一个叶子结点或者终止块。任何到达叶子节点的数据必然属于叶子节点的分类"
   ]
  },
  {
   "cell_type": "code",
   "execution_count": null,
   "metadata": {
    "collapsed": true
   },
   "outputs": [],
   "source": []
  },
  {
   "cell_type": "code",
   "execution_count": 33,
   "metadata": {
    "ExecuteTime": {
     "end_time": "2018-07-17T05:51:16.792110Z",
     "start_time": "2018-07-17T05:51:16.781493Z"
    },
    "collapsed": true
   },
   "outputs": [],
   "source": [
    "import operator\n",
    "\n",
    "def majorityCnt(classList):\n",
    "    classList = {}\n",
    "    #创建classList中唯一值的数据字典，字典对象存储了classList中每个类标签出现的频率\n",
    "    for vote in classList:\n",
    "        if vote not in classCount.keys():classCount[vote] = 0\n",
    "        classCount[vote] += 1\n",
    "    sortedClassCount = sorted(classCount.iteritems(),\\\n",
    "                              key = operator.itemgetter(1), reverse = True)\n",
    "    #利用operator操作键值排序字典，并返回出现次数最多的分类名称\n",
    "    return sortedClassCount[0][0]"
   ]
  },
  {
   "cell_type": "markdown",
   "metadata": {},
   "source": [
    "## 3-4 创建树的函数代码 "
   ]
  },
  {
   "cell_type": "raw",
   "metadata": {},
   "source": [
    "使用两个输入参数：数据集和标签列表\n",
    "标签列表包含了数据集中所有特征的标签，算法本身并不需要这个变量，但是为了给出数据明确的含义，将它作为一个输入参数提供\n",
    "该函数中的数据需要满足一定的要求：\n",
    "1.数据必须是一种由列表元素组成的列表，而且所有的列表元素都要具有相同的数据长度；\n",
    "2.数据的最后一列或者每个实例的最后一个元素是当前实例的类别标签\n",
    "\n",
    "\n",
    "1.创建了名为classList的列表变量，其中包含了数据集的所有类标签.递归函数第一个停止条件是所有的类标签完全相同，则返回该类标签\n",
    "2.递归函数的第二个停止条件是使用完了所有特征，仍然不能将数据集划分成仅包含唯一类别的分组\n",
    "3.声明字典类型存储了树的所有信息，当前数据集选取的最好特征存储在变量bestFeat中，得到列表包含的所有属性值\n",
    "4.遍历当前选择特征包含的所有属性值，每个数据集划分上递归调用函数creatTree()，得到返回值将被插入到字典变量myTree中\n"
   ]
  },
  {
   "cell_type": "raw",
   "metadata": {
    "ExecuteTime": {
     "end_time": "2018-07-17T05:51:52.370216Z",
     "start_time": "2018-07-17T05:51:52.329279Z"
    }
   },
   "source": [
    "def createTree(dataSet, labels):\n",
    "    classList = [example[-1] for example in dataSet]\n",
    "    if classList.count(classList[0]) == len(classList):\n",
    "        return classList[0]\n",
    "    if len(dataSet[0]) == 1:\n",
    "        return majorityCnt(classList)\n",
    "    bestFeat = chooseBestFeatureToSplit(dataSet)\n",
    "    bestFeatLabel = labels[bestFeat]\n",
    "    myTree = {bestFeatLabel:{ }}\n",
    "    del(labels[bestFeat])\n",
    "    featValues = [example[bestFeat] for example in dataSet]\n",
    "    uniqueVals = set(featValues)\n",
    "    for value in uniqueVals:\n",
    "        subLabels = labels[:]#复制了类标签，将其存储在新列表变量subLabels中\n",
    "        myTree[bestFeatLabel][value] = createTree(splitDataSet\\\n",
    "                                                 (dataSet, bestFeat, value),subLabels)\n",
    "    return myTree\n",
    "\n",
    "\n",
    "myTree = createTree(myDat, labels)\n",
    "myTree"
   ]
  },
  {
   "cell_type": "code",
   "execution_count": 51,
   "metadata": {
    "ExecuteTime": {
     "end_time": "2018-07-17T06:38:21.020808Z",
     "start_time": "2018-07-17T06:38:21.007255Z"
    },
    "collapsed": true
   },
   "outputs": [],
   "source": [
    "from pylab import mpl\n",
    "\n",
    "mpl.rcParams['font.sans-serif'] = ['FangSong'] # 指定默认字体\n",
    "mpl.rcParams['axes.unicode_minus'] = False # 解决保存图像是负号'-'显示为方块的问题"
   ]
  },
  {
   "cell_type": "code",
   "execution_count": 90,
   "metadata": {
    "ExecuteTime": {
     "end_time": "2018-07-17T07:17:18.901877Z",
     "start_time": "2018-07-17T07:17:18.239359Z"
    }
   },
   "outputs": [
    {
     "name": "stdout",
     "output_type": "stream",
     "text": [
      "3\n",
      "2\n"
     ]
    }
   ],
   "source": [
    "from math import log\n",
    "\n",
    "def calcShannonEnt(dataSet):\n",
    "    numEntries = len(dataSet)\n",
    "    labelCounts = {}\n",
    "    for featVec in dataSet:\n",
    "        currentLabel = featVec[-1]\n",
    "        if currentLabel not in labelCounts.keys():\n",
    "            labelCounts[currentLabel] = 0\n",
    "        labelCounts[currentLabel] += 1\n",
    "    shannonEnt  = 0.0\n",
    "    for key in labelCounts:\n",
    "        prob = float(labelCounts[key]) / numEntries\n",
    "        shannonEnt -= prob * log(prob , 2)\n",
    "    return shannonEnt\n",
    "\n",
    "def createDataSet():\n",
    "    dataSet  = [[1, 1, 'yes'],\n",
    "                     [1, 1, 'yes'],\n",
    "                     [1, 0, 'no'],\n",
    "                     [0, 1, 'no'],\n",
    "                     [0, 1, 'no']]\n",
    "\n",
    "    labels = [ 'no surfcaing', 'flippers' ]\n",
    "    return dataSet, labels\n",
    "def splitDataSet(dataSet, axis, value):\n",
    "    retDataSet = []\n",
    "    for featVec in dataSet:\n",
    "        if featVec[axis] == value:\n",
    "            reduceFeatVec = featVec[:axis]\n",
    "            reduceFeatVec.extend(featVec[axis+1:])\n",
    "            retDataSet.append(reduceFeatVec)\n",
    "    return retDataSet\n",
    "\n",
    "def chooseBestFeatureToSplit(dataSet):\n",
    "    numFeatures = len(dataSet[0]) - 1\n",
    "    bestEntropy = calcShannonEnt(dataSet)\n",
    "    bestInfoGain = 0.0;\n",
    "    bestFeature = -1\n",
    "    for i in range(numFeatures):\n",
    "        featList = [example[i] for example in dataSet]\n",
    "        uniqueVals = set(featList)\n",
    "        newEntropy = 0.0\n",
    "        for value in uniqueVals:\n",
    "            subDataSet = splitDataSet(dataSet, i, value)\n",
    "            prob = len(subDataSet) / float(len(dataSet))\n",
    "            newEntropy += prob * calcShannonEnt(subDataSet)\n",
    "        infoGain = bestEntropy - newEntropy\n",
    "        if (infoGain > bestInfoGain):\n",
    "            bestInfoGain = infoGain\n",
    "            bestFeature = i\n",
    "    return bestFeature\n",
    "\n",
    "\n",
    "import operator\n",
    "\n",
    "def majorityCnt(classList):\n",
    "    classList = {}\n",
    "    for vote in classList:\n",
    "        if vote not in classCount.keys():classCount[vote] = 0\n",
    "        classCount[vote] += 1\n",
    "    sortedClassCount = sorted(classCount.iteritems(),\\\n",
    "                              key = operator.itemgetter(1), reverse = True)\n",
    "    return sortedClassCount[0][0]\n",
    "\n",
    "def createTree(dataSet, labels):\n",
    "    classList = [example[-1] for example in dataSet]\n",
    "    if classList.count(classList[0]) == len(classList):\n",
    "        return classList[0]\n",
    "    if len(dataSet[0]) == 1:\n",
    "        return majorityCnt(classList)\n",
    "    bestFeat = chooseBestFeatureToSplit(dataSet)\n",
    "    bestFeatLabel = labels[bestFeat]\n",
    "    myTree = {bestFeatLabel:{ }}\n",
    "    del(labels[bestFeat])\n",
    "    featValues = [example[bestFeat] for example in dataSet]\n",
    "    uniqueVals = set(featValues)\n",
    "    for value in uniqueVals:\n",
    "        subLabels = labels[:]\n",
    "        myTree[bestFeatLabel][value] = createTree(splitDataSet\\\n",
    "                                                 (dataSet, bestFeat, value),subLabels)\n",
    "    return myTree\n",
    "\n",
    "import matplotlib.pyplot as plt\n",
    "decisionNode = dict(boxstyle = 'sawtooth', fc = \"0.8\")\n",
    "leafNode = dict(boxstyle =\"round4\", fc = \"0.8\")\n",
    "arrow_args = dict(arrowstyle = \"<-\")\n",
    "\"\"\"定义文本框和箭头格式\"\"\"\n",
    "def plotNode(nodeTxt, centerPt, parentPt, nodeType):\n",
    "    createPlot.ax1.annotate(nodeTxt, xy=parentPt,\\\n",
    "                           xycoords = 'axes fraction', \\\n",
    "                           xytext = centerPt, textcoords = 'axes fraction',\\\n",
    "                           va=\"center\", ha=\"center\", bbox=nodeType, arrowprops=arrow_args)\n",
    "def createPlot():\n",
    "    fig = plt.figure(1, facecolor='white')\n",
    "    fig.clf()\n",
    "    createPlot.ax1 = plt.subplot(111, frameon=False)\n",
    "    plotNode(U'决策节点', (0.5, 0.1), (0.1, 0.5), decisionNode)\n",
    "    plotNode(U'叶节点', (0.8, 0.1), (0.3, 0.8), leafNode)\n",
    "    plt.show()\n",
    "\n",
    "#得到叶子节点的数目\n",
    "def getNumLeafs(myTree):\n",
    "    numLeafs = 0\n",
    "    firstStr = list(myTree.keys())[0]\n",
    "    \"\"\"\n",
    "    会产生错误：TypeError: 'dict_keys' object does not support indexing\n",
    "    这是由于python3改变了dict.keys,返回的是dict_keys对象,支持iterable 但不支持indexable，我们可以将其明确的转化成list：\n",
    "    \"\"\"\n",
    "    secondDict = myTree[firstStr]\n",
    "    for key in secondDict.keys():\n",
    "        if type(secondDict[key]).__name__=='dict':#这里说的只是二叉树吧？？应该？\n",
    "            numLeafs += getNumLeafs(secondDict[key])\n",
    "        else:    numLeafs += 1\n",
    "    return numLeafs\n",
    " \n",
    "#树的层数\n",
    "def getTreeDepth(myTree):\n",
    "    maxDepth = 0\n",
    "    firstStr = list(myTree.keys())[0]\n",
    "    secondDict = myTree[firstStr]\n",
    "    for key in secondDict.keys():\n",
    "        if type(secondDict[key]).__name__ == 'dict':#一层只有一个dict\n",
    "            thisDepth = 1 + getTreeDepth(secondDict[key])\n",
    "            #print(123)\n",
    "        else:\n",
    "            thisDepth = 1\n",
    "            #print(456)\n",
    "        if thisDepth > maxDepth: maxDepth = thisDepth\n",
    "    return maxDepth\n",
    "\n",
    "\n",
    "def retrieveTree(i):\n",
    "    listOfTrees = [{'no surfcaing': {0: 'no', 1: {'flippers': \\\n",
    "                                                 {0: 'no', 1: 'yes'}}}},\n",
    "                  {'no surfcaing': {0: 'no', 1: {'flippers': \\\n",
    "                                                 {0: {'head': {0:'no', 1: 'yes'}}, 1:'no'}}}}\n",
    "                  ]\n",
    "    return listOfTrees[i]\n",
    "\n",
    "\n",
    "if __name__ == '__main__': #直接运行decision_tree,这个main函数会运行，如果是import decision_tree，main函数不运行\n",
    "    myDat, labels = createDataSet()\n",
    "    #print(myDat,labels)\n",
    "    #print(calcShannonEnt(myDat))\n",
    "    #myTree = createTree(myDat,labels)\n",
    "    #myTree\n",
    "    #createPlot()\n",
    "    myTree = retrieveTree(0)\n",
    "    print(getNumLeafs(myTree))\n",
    "    print(getTreeDepth(myTree))   \n",
    "\n",
    "\n",
    "\n"
   ]
  },
  {
   "cell_type": "code",
   "execution_count": 82,
   "metadata": {
    "ExecuteTime": {
     "end_time": "2018-07-17T07:14:54.288178Z",
     "start_time": "2018-07-17T07:14:54.284394Z"
    },
    "collapsed": true
   },
   "outputs": [],
   "source": [
    "mytree = retrieveTree(0)"
   ]
  },
  {
   "cell_type": "code",
   "execution_count": 87,
   "metadata": {
    "ExecuteTime": {
     "end_time": "2018-07-17T07:15:50.461543Z",
     "start_time": "2018-07-17T07:15:50.453951Z"
    }
   },
   "outputs": [
    {
     "data": {
      "text/plain": [
       "'no surfcaing'"
      ]
     },
     "execution_count": 87,
     "metadata": {},
     "output_type": "execute_result"
    }
   ],
   "source": [
    "list(mytree.keys())[0]"
   ]
  },
  {
   "cell_type": "code",
   "execution_count": null,
   "metadata": {
    "collapsed": true
   },
   "outputs": [],
   "source": []
  },
  {
   "cell_type": "code",
   "execution_count": null,
   "metadata": {
    "collapsed": true
   },
   "outputs": [],
   "source": []
  },
  {
   "cell_type": "code",
   "execution_count": null,
   "metadata": {
    "collapsed": true
   },
   "outputs": [],
   "source": []
  },
  {
   "cell_type": "code",
   "execution_count": null,
   "metadata": {
    "collapsed": true
   },
   "outputs": [],
   "source": []
  },
  {
   "cell_type": "code",
   "execution_count": 1,
   "metadata": {
    "ExecuteTime": {
     "end_time": "2018-07-07T23:06:57.259546Z",
     "start_time": "2018-07-07T23:06:56.173028Z"
    },
    "collapsed": true
   },
   "outputs": [],
   "source": [
    "import numpy as np\n",
    "import pandas as pd\n",
    "from pandas import Series, DataFrame"
   ]
  },
  {
   "cell_type": "code",
   "execution_count": 2,
   "metadata": {
    "ExecuteTime": {
     "end_time": "2018-07-07T23:07:15.534319Z",
     "start_time": "2018-07-07T23:07:15.518353Z"
    }
   },
   "outputs": [
    {
     "data": {
      "text/plain": [
       "(4, 5, 6)"
      ]
     },
     "execution_count": 2,
     "metadata": {},
     "output_type": "execute_result"
    }
   ],
   "source": [
    "tup = 4, 5, 6\n",
    "tup"
   ]
  },
  {
   "cell_type": "code",
   "execution_count": 3,
   "metadata": {
    "ExecuteTime": {
     "end_time": "2018-07-07T23:11:33.826133Z",
     "start_time": "2018-07-07T23:11:33.809533Z"
    }
   },
   "outputs": [
    {
     "data": {
      "text/plain": [
       "((4, 5, 6), (7, 8))"
      ]
     },
     "execution_count": 3,
     "metadata": {},
     "output_type": "execute_result"
    }
   ],
   "source": [
    "nested_tup = (4, 5, 6),(7, 8)\n",
    "nested_tup"
   ]
  },
  {
   "cell_type": "code",
   "execution_count": 4,
   "metadata": {
    "ExecuteTime": {
     "end_time": "2018-07-07T23:14:17.195109Z",
     "start_time": "2018-07-07T23:14:17.185437Z"
    }
   },
   "outputs": [
    {
     "data": {
      "text/plain": [
       "(4, 0, 2)"
      ]
     },
     "execution_count": 4,
     "metadata": {},
     "output_type": "execute_result"
    }
   ],
   "source": [
    "tuple([4, 0, 2])"
   ]
  },
  {
   "cell_type": "code",
   "execution_count": 6,
   "metadata": {
    "ExecuteTime": {
     "end_time": "2018-07-07T23:15:29.826354Z",
     "start_time": "2018-07-07T23:15:29.815456Z"
    }
   },
   "outputs": [
    {
     "data": {
      "text/plain": [
       "('s', 't', 'r', 'i', 'n', 'g')"
      ]
     },
     "execution_count": 6,
     "metadata": {},
     "output_type": "execute_result"
    }
   ],
   "source": [
    "tup = tuple(\"string\")\n",
    "tup"
   ]
  },
  {
   "cell_type": "code",
   "execution_count": 9,
   "metadata": {
    "ExecuteTime": {
     "end_time": "2018-07-07T23:20:58.435943Z",
     "start_time": "2018-07-07T23:20:58.415784Z"
    }
   },
   "outputs": [
    {
     "ename": "TypeError",
     "evalue": "'tuple' object does not support item assignment",
     "output_type": "error",
     "traceback": [
      "\u001b[0;31m---------------------------------------------------------------------------\u001b[0m",
      "\u001b[0;31mTypeError\u001b[0m                                 Traceback (most recent call last)",
      "\u001b[0;32m<ipython-input-9-bc4af7624d52>\u001b[0m in \u001b[0;36m<module>\u001b[0;34m()\u001b[0m\n\u001b[1;32m      1\u001b[0m \u001b[0mtup\u001b[0m \u001b[0;34m=\u001b[0m \u001b[0mtuple\u001b[0m\u001b[0;34m(\u001b[0m\u001b[0;34m[\u001b[0m\u001b[0;34m'foo'\u001b[0m\u001b[0;34m,\u001b[0m \u001b[0;34m[\u001b[0m\u001b[0;36m1\u001b[0m\u001b[0;34m,\u001b[0m\u001b[0;36m2\u001b[0m\u001b[0;34m]\u001b[0m\u001b[0;34m,\u001b[0m \u001b[0;32mTrue\u001b[0m\u001b[0;34m]\u001b[0m\u001b[0;34m)\u001b[0m\u001b[0;34m\u001b[0m\u001b[0m\n\u001b[0;32m----> 2\u001b[0;31m \u001b[0mtup\u001b[0m\u001b[0;34m[\u001b[0m\u001b[0;36m2\u001b[0m\u001b[0;34m]\u001b[0m \u001b[0;34m=\u001b[0m \u001b[0;32mFalse\u001b[0m\u001b[0;34m\u001b[0m\u001b[0m\n\u001b[0m",
      "\u001b[0;31mTypeError\u001b[0m: 'tuple' object does not support item assignment"
     ]
    }
   ],
   "source": [
    "tup = tuple(['foo', [1,2], True])\n",
    "tup[2] = False"
   ]
  },
  {
   "cell_type": "code",
   "execution_count": 10,
   "metadata": {
    "ExecuteTime": {
     "end_time": "2018-07-07T23:22:22.916036Z",
     "start_time": "2018-07-07T23:22:22.905068Z"
    }
   },
   "outputs": [
    {
     "data": {
      "text/plain": [
       "('foo', [1, 2, 3], True)"
      ]
     },
     "execution_count": 10,
     "metadata": {},
     "output_type": "execute_result"
    }
   ],
   "source": [
    "tup[1].append(3)\n",
    "tup"
   ]
  },
  {
   "cell_type": "code",
   "execution_count": 11,
   "metadata": {
    "ExecuteTime": {
     "end_time": "2018-07-07T23:23:59.528614Z",
     "start_time": "2018-07-07T23:23:59.517813Z"
    }
   },
   "outputs": [
    {
     "data": {
      "text/plain": [
       "(4, None, 'foo', 6, 0, 'bar')"
      ]
     },
     "execution_count": 11,
     "metadata": {},
     "output_type": "execute_result"
    }
   ],
   "source": [
    "(4, None, 'foo')+(6, 0)+('bar',)"
   ]
  },
  {
   "cell_type": "code",
   "execution_count": 13,
   "metadata": {
    "ExecuteTime": {
     "end_time": "2018-07-07T23:26:19.209393Z",
     "start_time": "2018-07-07T23:26:19.199962Z"
    }
   },
   "outputs": [
    {
     "data": {
      "text/plain": [
       "5"
      ]
     },
     "execution_count": 13,
     "metadata": {},
     "output_type": "execute_result"
    }
   ],
   "source": [
    "tup = (4, 5, 6)\n",
    "a, b, c = tup\n",
    "b"
   ]
  },
  {
   "cell_type": "code",
   "execution_count": 15,
   "metadata": {
    "ExecuteTime": {
     "end_time": "2018-07-07T23:27:53.618712Z",
     "start_time": "2018-07-07T23:27:53.607584Z"
    }
   },
   "outputs": [
    {
     "data": {
      "text/plain": [
       "7"
      ]
     },
     "execution_count": 15,
     "metadata": {},
     "output_type": "execute_result"
    }
   ],
   "source": [
    "tup = 4, 5, (6, 7)\n",
    "a, b, (c, d) = tup\n",
    "d"
   ]
  },
  {
   "cell_type": "code",
   "execution_count": 18,
   "metadata": {
    "ExecuteTime": {
     "end_time": "2018-07-07T23:30:38.972801Z",
     "start_time": "2018-07-07T23:30:38.960044Z"
    }
   },
   "outputs": [
    {
     "data": {
      "text/plain": [
       "8"
      ]
     },
     "execution_count": 18,
     "metadata": {},
     "output_type": "execute_result"
    }
   ],
   "source": [
    "seq = [(1, 2, 3),(4, 5, 6),(7, 8, 9)]\n",
    "for a, b, c in seq:\n",
    "    pass\n",
    "b"
   ]
  },
  {
   "cell_type": "code",
   "execution_count": 19,
   "metadata": {
    "ExecuteTime": {
     "end_time": "2018-07-07T23:32:07.565076Z",
     "start_time": "2018-07-07T23:32:07.558979Z"
    },
    "collapsed": true
   },
   "outputs": [],
   "source": [
    "a = (1, 2, 2, 2, 2, 3, 4, 2)"
   ]
  },
  {
   "cell_type": "code",
   "execution_count": 20,
   "metadata": {
    "ExecuteTime": {
     "end_time": "2018-07-07T23:32:13.530796Z",
     "start_time": "2018-07-07T23:32:13.521475Z"
    }
   },
   "outputs": [
    {
     "data": {
      "text/plain": [
       "5"
      ]
     },
     "execution_count": 20,
     "metadata": {},
     "output_type": "execute_result"
    }
   ],
   "source": [
    "a.count(2)"
   ]
  },
  {
   "cell_type": "code",
   "execution_count": 24,
   "metadata": {
    "ExecuteTime": {
     "end_time": "2018-07-07T23:40:39.779637Z",
     "start_time": "2018-07-07T23:40:39.765148Z"
    }
   },
   "outputs": [
    {
     "data": {
      "text/plain": [
       "[2, 3, 7, None]"
      ]
     },
     "execution_count": 24,
     "metadata": {},
     "output_type": "execute_result"
    }
   ],
   "source": [
    "a_list = [2, 3, 7, None]\n",
    "a_list"
   ]
  },
  {
   "cell_type": "code",
   "execution_count": 36,
   "metadata": {
    "ExecuteTime": {
     "end_time": "2018-07-07T23:53:54.879688Z",
     "start_time": "2018-07-07T23:53:54.870360Z"
    }
   },
   "outputs": [
    {
     "data": {
      "text/plain": [
       "['foo', 'bar', 'baz']"
      ]
     },
     "execution_count": 36,
     "metadata": {},
     "output_type": "execute_result"
    }
   ],
   "source": [
    "tup = ('foo', 'bar', 'baz')\n",
    "b_list =list(tup)\n",
    "b_list"
   ]
  },
  {
   "cell_type": "code",
   "execution_count": 37,
   "metadata": {
    "ExecuteTime": {
     "end_time": "2018-07-07T23:53:56.601051Z",
     "start_time": "2018-07-07T23:53:56.590555Z"
    }
   },
   "outputs": [
    {
     "data": {
      "text/plain": [
       "['foo', 'peekaboo', 'baz']"
      ]
     },
     "execution_count": 37,
     "metadata": {},
     "output_type": "execute_result"
    }
   ],
   "source": [
    "b_list[1] = 'peekaboo'\n",
    "b_list"
   ]
  },
  {
   "cell_type": "code",
   "execution_count": 38,
   "metadata": {
    "ExecuteTime": {
     "end_time": "2018-07-07T23:53:58.535221Z",
     "start_time": "2018-07-07T23:53:58.524594Z"
    }
   },
   "outputs": [
    {
     "data": {
      "text/plain": [
       "['foo', 'peekaboo', 'baz', 'dwarf']"
      ]
     },
     "execution_count": 38,
     "metadata": {},
     "output_type": "execute_result"
    }
   ],
   "source": [
    "b_list.append('dwarf')\n",
    "b_list"
   ]
  },
  {
   "cell_type": "code",
   "execution_count": 39,
   "metadata": {
    "ExecuteTime": {
     "end_time": "2018-07-07T23:53:59.811929Z",
     "start_time": "2018-07-07T23:53:59.798322Z"
    }
   },
   "outputs": [
    {
     "data": {
      "text/plain": [
       "['foo', 'red', 'peekaboo', 'baz', 'dwarf']"
      ]
     },
     "execution_count": 39,
     "metadata": {},
     "output_type": "execute_result"
    }
   ],
   "source": [
    "b_list.insert(1, 'red')\n",
    "b_list"
   ]
  },
  {
   "cell_type": "code",
   "execution_count": 40,
   "metadata": {
    "ExecuteTime": {
     "end_time": "2018-07-07T23:54:02.158776Z",
     "start_time": "2018-07-07T23:54:02.146832Z"
    }
   },
   "outputs": [
    {
     "data": {
      "text/plain": [
       "'peekaboo'"
      ]
     },
     "execution_count": 40,
     "metadata": {},
     "output_type": "execute_result"
    }
   ],
   "source": [
    "b_list.pop(2)"
   ]
  },
  {
   "cell_type": "code",
   "execution_count": 41,
   "metadata": {
    "ExecuteTime": {
     "end_time": "2018-07-07T23:54:03.094470Z",
     "start_time": "2018-07-07T23:54:03.080847Z"
    }
   },
   "outputs": [
    {
     "data": {
      "text/plain": [
       "['foo', 'red', 'baz', 'dwarf']"
      ]
     },
     "execution_count": 41,
     "metadata": {},
     "output_type": "execute_result"
    }
   ],
   "source": [
    "b_list"
   ]
  },
  {
   "cell_type": "code",
   "execution_count": 42,
   "metadata": {
    "ExecuteTime": {
     "end_time": "2018-07-07T23:54:05.636540Z",
     "start_time": "2018-07-07T23:54:05.625372Z"
    }
   },
   "outputs": [
    {
     "data": {
      "text/plain": [
       "['red', 'baz', 'dwarf', 'foo']"
      ]
     },
     "execution_count": 42,
     "metadata": {},
     "output_type": "execute_result"
    }
   ],
   "source": [
    "b_list.append('foo')\n",
    "b_list.remove('foo')\n",
    "b_list"
   ]
  },
  {
   "cell_type": "code",
   "execution_count": 43,
   "metadata": {
    "ExecuteTime": {
     "end_time": "2018-07-07T23:58:10.712735Z",
     "start_time": "2018-07-07T23:58:10.701003Z"
    }
   },
   "outputs": [
    {
     "data": {
      "text/plain": [
       "True"
      ]
     },
     "execution_count": 43,
     "metadata": {},
     "output_type": "execute_result"
    }
   ],
   "source": [
    "'dwarf' in b_list"
   ]
  },
  {
   "cell_type": "code",
   "execution_count": 48,
   "metadata": {
    "ExecuteTime": {
     "end_time": "2018-07-08T04:52:36.407149Z",
     "start_time": "2018-07-08T04:52:36.273740Z"
    },
    "collapsed": true
   },
   "outputs": [],
   "source": [
    "pd.DataFrame.apply??"
   ]
  },
  {
   "cell_type": "code",
   "execution_count": 49,
   "metadata": {
    "ExecuteTime": {
     "end_time": "2018-07-08T04:52:56.871499Z",
     "start_time": "2018-07-08T04:52:56.844224Z"
    },
    "collapsed": true
   },
   "outputs": [],
   "source": [
    "pd.Series.map??"
   ]
  },
  {
   "cell_type": "code",
   "execution_count": null,
   "metadata": {
    "collapsed": true
   },
   "outputs": [],
   "source": []
  }
 ],
 "metadata": {
  "kernelspec": {
   "display_name": "Python 3",
   "language": "python",
   "name": "python3"
  },
  "language_info": {
   "codemirror_mode": {
    "name": "ipython",
    "version": 3
   },
   "file_extension": ".py",
   "mimetype": "text/x-python",
   "name": "python",
   "nbconvert_exporter": "python",
   "pygments_lexer": "ipython3",
   "version": "3.6.2"
  }
 },
 "nbformat": 4,
 "nbformat_minor": 2
}
